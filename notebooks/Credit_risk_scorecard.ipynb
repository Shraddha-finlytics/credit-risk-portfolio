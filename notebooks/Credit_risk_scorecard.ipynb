{
 "cells": [
  {
   "cell_type": "markdown",
   "id": "f633790f-ebb4-4c81-adf6-043d1cc2c7ea",
   "metadata": {},
   "source": [
    "# Credit Risk Scorecard Project\n",
    "\n",
    "This project builds a credit risk scorecard model to estimate the probability that a customer will default within two years.  \n",
    "\n",
    "The scorecard approach is widely used in banking because it produces both a probability of default and an interpretable credit score.  \n",
    "\n",
    "The following is the roadmap we follow for this project: \n",
    "\n",
    "- **Stage 1:** Setup & Data Load \n",
    "- **Stage 2:** SQL-based EDA  \n",
    "- **Stage 3:** Data Cleaning & Feature Engineering  \n",
    "- **Stage 4:** Build Scorecard Model  "
   ]
  },
  {
   "cell_type": "markdown",
   "id": "f5390c5d-6456-42ef-9e00-d5f41b27f101",
   "metadata": {},
   "source": [
    "## Stage 1: Setup and Data Load\n",
    "\n",
    "In this stage, we prepare our environment and load the dataset.  \n",
    "\n",
    "- We import the Python libraries we will use for data analysis  \n",
    "- We connect to SQLite so that we can also practice using SQL queries  \n",
    "- We then load the **Give Me Some Credit** dataset from Kaggle into pandas  \n",
    "\n",
    "At the end of this stage, the data is available in Python and ready for exploration.  "
   ]
  },
  {
   "cell_type": "markdown",
   "id": "ee305ff9-eb8b-433c-9e03-bee49e8b5aa8",
   "metadata": {},
   "source": [
    "###### ***We import the required Python libraries.***\n",
    "###### - ***pandas: for handling and analyzing tabular data***  \n",
    "###### - ***sqlite3: for creating and using a lightweight SQL database***"
   ]
  },
  {
   "cell_type": "code",
   "execution_count": 2,
   "id": "3ade0159-8c20-4209-9355-43767072b4e0",
   "metadata": {},
   "outputs": [],
   "source": [
    "import pandas as pd\n",
    "import sqlite3"
   ]
  },
  {
   "cell_type": "markdown",
   "id": "b184c72d-03a4-4e00-9a11-a55893626ae2",
   "metadata": {},
   "source": [
    "###### ***We load the **Give Me Some Credit** dataset from Kaggle into a pandas DataFrame. This dataset contains information on customers such as age, income, number of dependents, and whether they defaulted within two years.***"
   ]
  },
  {
   "cell_type": "code",
   "execution_count": 3,
   "id": "626bd337-83c7-4a2c-8844-acb94890e99c",
   "metadata": {},
   "outputs": [],
   "source": [
    "df = pd.read_csv(r\"C:\\Users\\shrad\\OneDrive\\Desktop\\Credit-risk-portfolio\\project-1-pd-scorecard\\data\\cs-training.csv\")"
   ]
  },
  {
   "cell_type": "markdown",
   "id": "91a316e5-0116-4275-8063-d89486f8fba4",
   "metadata": {},
   "source": [
    "###### ***We check the shape of the dataset, i.e., the number of rows (customers) and columns (variables).***"
   ]
  },
  {
   "cell_type": "code",
   "execution_count": 4,
   "id": "65f5fce7-08f1-4e5b-8c86-ebdca57fa660",
   "metadata": {},
   "outputs": [
    {
     "data": {
      "text/plain": [
       "(150000, 12)"
      ]
     },
     "execution_count": 4,
     "metadata": {},
     "output_type": "execute_result"
    }
   ],
   "source": [
    "df.shape"
   ]
  },
  {
   "cell_type": "markdown",
   "id": "71158dea-4988-44a6-a420-e765936f12d1",
   "metadata": {},
   "source": [
    "###### ***We list all column names to see what variables are included in the dataset.***"
   ]
  },
  {
   "cell_type": "code",
   "execution_count": 5,
   "id": "2528e52b-4ecd-460c-bbb8-ce3a75d11cfc",
   "metadata": {},
   "outputs": [
    {
     "data": {
      "text/plain": [
       "Index(['Unnamed: 0', 'SeriousDlqin2yrs',\n",
       "       'RevolvingUtilizationOfUnsecuredLines', 'age',\n",
       "       'NumberOfTime30-59DaysPastDueNotWorse', 'DebtRatio', 'MonthlyIncome',\n",
       "       'NumberOfOpenCreditLinesAndLoans', 'NumberOfTimes90DaysLate',\n",
       "       'NumberRealEstateLoansOrLines', 'NumberOfTime60-89DaysPastDueNotWorse',\n",
       "       'NumberOfDependents'],\n",
       "      dtype='object')"
      ]
     },
     "execution_count": 5,
     "metadata": {},
     "output_type": "execute_result"
    }
   ],
   "source": [
    "df.columns"
   ]
  },
  {
   "cell_type": "markdown",
   "id": "06e7c8d9-f3a8-47d8-ac88-a6558e845646",
   "metadata": {},
   "source": [
    "###### ***We generate summary statistics (mean, median, min, max, etc.) for all numeric columns. This gives us a first look at the data distributions.*** "
   ]
  },
  {
   "cell_type": "code",
   "execution_count": 6,
   "id": "33f61341-5a54-4e75-8398-bb6712ceeda6",
   "metadata": {},
   "outputs": [
    {
     "data": {
      "text/html": [
       "<div>\n",
       "<style scoped>\n",
       "    .dataframe tbody tr th:only-of-type {\n",
       "        vertical-align: middle;\n",
       "    }\n",
       "\n",
       "    .dataframe tbody tr th {\n",
       "        vertical-align: top;\n",
       "    }\n",
       "\n",
       "    .dataframe thead th {\n",
       "        text-align: right;\n",
       "    }\n",
       "</style>\n",
       "<table border=\"1\" class=\"dataframe\">\n",
       "  <thead>\n",
       "    <tr style=\"text-align: right;\">\n",
       "      <th></th>\n",
       "      <th>Unnamed: 0</th>\n",
       "      <th>SeriousDlqin2yrs</th>\n",
       "      <th>RevolvingUtilizationOfUnsecuredLines</th>\n",
       "      <th>age</th>\n",
       "      <th>NumberOfTime30-59DaysPastDueNotWorse</th>\n",
       "      <th>DebtRatio</th>\n",
       "      <th>MonthlyIncome</th>\n",
       "      <th>NumberOfOpenCreditLinesAndLoans</th>\n",
       "      <th>NumberOfTimes90DaysLate</th>\n",
       "      <th>NumberRealEstateLoansOrLines</th>\n",
       "      <th>NumberOfTime60-89DaysPastDueNotWorse</th>\n",
       "      <th>NumberOfDependents</th>\n",
       "    </tr>\n",
       "  </thead>\n",
       "  <tbody>\n",
       "    <tr>\n",
       "      <th>count</th>\n",
       "      <td>150000.000000</td>\n",
       "      <td>150000.000000</td>\n",
       "      <td>150000.000000</td>\n",
       "      <td>150000.000000</td>\n",
       "      <td>150000.000000</td>\n",
       "      <td>150000.000000</td>\n",
       "      <td>1.202690e+05</td>\n",
       "      <td>150000.000000</td>\n",
       "      <td>150000.000000</td>\n",
       "      <td>150000.000000</td>\n",
       "      <td>150000.000000</td>\n",
       "      <td>146076.000000</td>\n",
       "    </tr>\n",
       "    <tr>\n",
       "      <th>mean</th>\n",
       "      <td>75000.500000</td>\n",
       "      <td>0.066840</td>\n",
       "      <td>6.048438</td>\n",
       "      <td>52.295207</td>\n",
       "      <td>0.421033</td>\n",
       "      <td>353.005076</td>\n",
       "      <td>6.670221e+03</td>\n",
       "      <td>8.452760</td>\n",
       "      <td>0.265973</td>\n",
       "      <td>1.018240</td>\n",
       "      <td>0.240387</td>\n",
       "      <td>0.757222</td>\n",
       "    </tr>\n",
       "    <tr>\n",
       "      <th>std</th>\n",
       "      <td>43301.414527</td>\n",
       "      <td>0.249746</td>\n",
       "      <td>249.755371</td>\n",
       "      <td>14.771866</td>\n",
       "      <td>4.192781</td>\n",
       "      <td>2037.818523</td>\n",
       "      <td>1.438467e+04</td>\n",
       "      <td>5.145951</td>\n",
       "      <td>4.169304</td>\n",
       "      <td>1.129771</td>\n",
       "      <td>4.155179</td>\n",
       "      <td>1.115086</td>\n",
       "    </tr>\n",
       "    <tr>\n",
       "      <th>min</th>\n",
       "      <td>1.000000</td>\n",
       "      <td>0.000000</td>\n",
       "      <td>0.000000</td>\n",
       "      <td>0.000000</td>\n",
       "      <td>0.000000</td>\n",
       "      <td>0.000000</td>\n",
       "      <td>0.000000e+00</td>\n",
       "      <td>0.000000</td>\n",
       "      <td>0.000000</td>\n",
       "      <td>0.000000</td>\n",
       "      <td>0.000000</td>\n",
       "      <td>0.000000</td>\n",
       "    </tr>\n",
       "    <tr>\n",
       "      <th>25%</th>\n",
       "      <td>37500.750000</td>\n",
       "      <td>0.000000</td>\n",
       "      <td>0.029867</td>\n",
       "      <td>41.000000</td>\n",
       "      <td>0.000000</td>\n",
       "      <td>0.175074</td>\n",
       "      <td>3.400000e+03</td>\n",
       "      <td>5.000000</td>\n",
       "      <td>0.000000</td>\n",
       "      <td>0.000000</td>\n",
       "      <td>0.000000</td>\n",
       "      <td>0.000000</td>\n",
       "    </tr>\n",
       "    <tr>\n",
       "      <th>50%</th>\n",
       "      <td>75000.500000</td>\n",
       "      <td>0.000000</td>\n",
       "      <td>0.154181</td>\n",
       "      <td>52.000000</td>\n",
       "      <td>0.000000</td>\n",
       "      <td>0.366508</td>\n",
       "      <td>5.400000e+03</td>\n",
       "      <td>8.000000</td>\n",
       "      <td>0.000000</td>\n",
       "      <td>1.000000</td>\n",
       "      <td>0.000000</td>\n",
       "      <td>0.000000</td>\n",
       "    </tr>\n",
       "    <tr>\n",
       "      <th>75%</th>\n",
       "      <td>112500.250000</td>\n",
       "      <td>0.000000</td>\n",
       "      <td>0.559046</td>\n",
       "      <td>63.000000</td>\n",
       "      <td>0.000000</td>\n",
       "      <td>0.868254</td>\n",
       "      <td>8.249000e+03</td>\n",
       "      <td>11.000000</td>\n",
       "      <td>0.000000</td>\n",
       "      <td>2.000000</td>\n",
       "      <td>0.000000</td>\n",
       "      <td>1.000000</td>\n",
       "    </tr>\n",
       "    <tr>\n",
       "      <th>max</th>\n",
       "      <td>150000.000000</td>\n",
       "      <td>1.000000</td>\n",
       "      <td>50708.000000</td>\n",
       "      <td>109.000000</td>\n",
       "      <td>98.000000</td>\n",
       "      <td>329664.000000</td>\n",
       "      <td>3.008750e+06</td>\n",
       "      <td>58.000000</td>\n",
       "      <td>98.000000</td>\n",
       "      <td>54.000000</td>\n",
       "      <td>98.000000</td>\n",
       "      <td>20.000000</td>\n",
       "    </tr>\n",
       "  </tbody>\n",
       "</table>\n",
       "</div>"
      ],
      "text/plain": [
       "          Unnamed: 0  SeriousDlqin2yrs  RevolvingUtilizationOfUnsecuredLines  \\\n",
       "count  150000.000000     150000.000000                         150000.000000   \n",
       "mean    75000.500000          0.066840                              6.048438   \n",
       "std     43301.414527          0.249746                            249.755371   \n",
       "min         1.000000          0.000000                              0.000000   \n",
       "25%     37500.750000          0.000000                              0.029867   \n",
       "50%     75000.500000          0.000000                              0.154181   \n",
       "75%    112500.250000          0.000000                              0.559046   \n",
       "max    150000.000000          1.000000                          50708.000000   \n",
       "\n",
       "                 age  NumberOfTime30-59DaysPastDueNotWorse      DebtRatio  \\\n",
       "count  150000.000000                         150000.000000  150000.000000   \n",
       "mean       52.295207                              0.421033     353.005076   \n",
       "std        14.771866                              4.192781    2037.818523   \n",
       "min         0.000000                              0.000000       0.000000   \n",
       "25%        41.000000                              0.000000       0.175074   \n",
       "50%        52.000000                              0.000000       0.366508   \n",
       "75%        63.000000                              0.000000       0.868254   \n",
       "max       109.000000                             98.000000  329664.000000   \n",
       "\n",
       "       MonthlyIncome  NumberOfOpenCreditLinesAndLoans  \\\n",
       "count   1.202690e+05                    150000.000000   \n",
       "mean    6.670221e+03                         8.452760   \n",
       "std     1.438467e+04                         5.145951   \n",
       "min     0.000000e+00                         0.000000   \n",
       "25%     3.400000e+03                         5.000000   \n",
       "50%     5.400000e+03                         8.000000   \n",
       "75%     8.249000e+03                        11.000000   \n",
       "max     3.008750e+06                        58.000000   \n",
       "\n",
       "       NumberOfTimes90DaysLate  NumberRealEstateLoansOrLines  \\\n",
       "count            150000.000000                 150000.000000   \n",
       "mean                  0.265973                      1.018240   \n",
       "std                   4.169304                      1.129771   \n",
       "min                   0.000000                      0.000000   \n",
       "25%                   0.000000                      0.000000   \n",
       "50%                   0.000000                      1.000000   \n",
       "75%                   0.000000                      2.000000   \n",
       "max                  98.000000                     54.000000   \n",
       "\n",
       "       NumberOfTime60-89DaysPastDueNotWorse  NumberOfDependents  \n",
       "count                         150000.000000       146076.000000  \n",
       "mean                               0.240387            0.757222  \n",
       "std                                4.155179            1.115086  \n",
       "min                                0.000000            0.000000  \n",
       "25%                                0.000000            0.000000  \n",
       "50%                                0.000000            0.000000  \n",
       "75%                                0.000000            1.000000  \n",
       "max                               98.000000           20.000000  "
      ]
     },
     "execution_count": 6,
     "metadata": {},
     "output_type": "execute_result"
    }
   ],
   "source": [
    "df.describe()"
   ]
  },
  {
   "cell_type": "markdown",
   "id": "f4661965-fa1b-42dd-9142-a16c748ec173",
   "metadata": {},
   "source": [
    "###### ***We create a connection to a SQLite database file. This will allow us to save the dataset into a database table and later run SQL queries on it.***  "
   ]
  },
  {
   "cell_type": "code",
   "execution_count": 7,
   "id": "e8dd09bc-686f-4e8c-ae2f-9b705eaaa853",
   "metadata": {},
   "outputs": [],
   "source": [
    "conn = sqlite3.connect(\"../data/creditrisk.db\")"
   ]
  },
  {
   "cell_type": "markdown",
   "id": "faae94de-30ef-4efe-8a59-6fff2aeff8cd",
   "metadata": {},
   "source": [
    "###### ***We attempt to save the DataFrame into the SQLite database as a table named credit_data.***"
   ]
  },
  {
   "cell_type": "code",
   "execution_count": 8,
   "id": "ac87edbe-7b65-419b-899d-a4b865dd9b20",
   "metadata": {},
   "outputs": [
    {
     "data": {
      "text/plain": [
       "150000"
      ]
     },
     "execution_count": 8,
     "metadata": {},
     "output_type": "execute_result"
    }
   ],
   "source": [
    "df.to_sql(\"credit_data\", conn, if_exists=\"replace\", index=False)"
   ]
  },
  {
   "cell_type": "markdown",
   "id": "01266f8a-c77e-4708-859b-daf51a24a0e7",
   "metadata": {},
   "source": [
    "###### ***We print all column names in a Python list format. This is another quick check to confirm that the dataset loaded correctly.***"
   ]
  },
  {
   "cell_type": "code",
   "execution_count": 9,
   "id": "4f92e7b0-caa7-4bb6-b5b6-d4c6bfab147d",
   "metadata": {},
   "outputs": [
    {
     "name": "stdout",
     "output_type": "stream",
     "text": [
      "Pandas_columns: ['Unnamed: 0', 'SeriousDlqin2yrs', 'RevolvingUtilizationOfUnsecuredLines', 'age', 'NumberOfTime30-59DaysPastDueNotWorse', 'DebtRatio', 'MonthlyIncome', 'NumberOfOpenCreditLinesAndLoans', 'NumberOfTimes90DaysLate', 'NumberRealEstateLoansOrLines', 'NumberOfTime60-89DaysPastDueNotWorse', 'NumberOfDependents']\n"
     ]
    }
   ],
   "source": [
    "print('Pandas_columns:', df.columns.tolist())"
   ]
  },
  {
   "cell_type": "code",
   "execution_count": 10,
   "id": "593c8106-f44b-437b-b200-af942c3a6a55",
   "metadata": {},
   "outputs": [
    {
     "name": "stdout",
     "output_type": "stream",
     "text": [
      "['Unnamed: 0', 'SeriousDlqin2yrs', 'RevolvingUtilizationOfUnsecuredLines', 'age', 'NumberOfTime30-59DaysPastDueNotWorse', 'DebtRatio', 'MonthlyIncome', 'NumberOfOpenCreditLinesAndLoans', 'NumberOfTimes90DaysLate', 'NumberRealEstateLoansOrLines', 'NumberOfTime60-89DaysPastDueNotWorse', 'NumberOfDependents']\n"
     ]
    }
   ],
   "source": [
    "print(df.columns.tolist()) "
   ]
  },
  {
   "cell_type": "markdown",
   "id": "03528e2f-aa7f-4f05-9d48-8d9e33b08fc9",
   "metadata": {},
   "source": [
    "###### ***We rename the unnamed index column to **ID** for clarity. This makes the dataset easier to work with, especially when saving to SQL.***\n"
   ]
  },
  {
   "cell_type": "code",
   "execution_count": 11,
   "id": "eeaa5a2b-6256-4936-a608-09302ae1d8ac",
   "metadata": {},
   "outputs": [],
   "source": [
    "df.rename(columns= {'Unnamed: 0': 'ID'}, inplace = True)"
   ]
  },
  {
   "cell_type": "code",
   "execution_count": 12,
   "id": "19373fba-3e4d-4339-93b6-9ad92b913fa0",
   "metadata": {},
   "outputs": [
    {
     "name": "stdout",
     "output_type": "stream",
     "text": [
      "['ID', 'SeriousDlqin2yrs', 'RevolvingUtilizationOfUnsecuredLines', 'age', 'NumberOfTime30-59DaysPastDueNotWorse', 'DebtRatio', 'MonthlyIncome', 'NumberOfOpenCreditLinesAndLoans', 'NumberOfTimes90DaysLate', 'NumberRealEstateLoansOrLines', 'NumberOfTime60-89DaysPastDueNotWorse', 'NumberOfDependents']\n"
     ]
    }
   ],
   "source": [
    "print(df.columns.tolist())"
   ]
  },
  {
   "cell_type": "markdown",
   "id": "c374d063-143c-40e3-9705-99dffe4db45a",
   "metadata": {},
   "source": [
    "##### **Stage 1 Summary**\n",
    "\n",
    "In this stage we successfully:  \n",
    "- Imported the necessary Python libraries  \n",
    "- Loaded the *Give Me Some Credit* dataset into pandas  \n",
    "- Checked the dataset size, column names, and summary statistics  \n",
    "- Created a SQLite database connection  \n",
    "- (Optionally) saved the dataset into a SQL table for queries  \n",
    "- Renamed the index column to **ID** for clarity  \n",
    "\n",
    "At this point, our dataset is properly loaded and ready for further exploration.  "
   ]
  },
  {
   "cell_type": "markdown",
   "id": "4f838bef-1cf9-4bb4-83b5-028aae8be6c1",
   "metadata": {},
   "source": [
    "## Stage 2: SQL-based Exploratory Data Analysis\n",
    "\n",
    "Now that the data is loaded into our SQLite database, we use SQL to understand what is in the table and to check a few business-critical facts.\n",
    "\n",
    "What we want to learn:\n",
    "1) What columns exist and what they are called  \n",
    "2) How many rows we have and what the overall default rate is  \n",
    "3) Whether there are unusual values in core fields such as age and utilization  \n",
    "4) How many records have missing income or missing dependents  \n",
    "5) How often customers were late by 30–59 days, 60–89 days, and 90+ days  \n",
    "6) How many dependents customers have\n",
    "\n",
    "These checks give us a clear picture of data quality and first-pass risk patterns before we build any model."
   ]
  },
  {
   "cell_type": "markdown",
   "id": "6daf3bc9-f2d5-4ed4-bc13-27f1a38d5120",
   "metadata": {},
   "source": [
    "###### ***We connect to SQLite and save our pandas DataFrame as a table named credit_data. This gives us a simple database we can query with SQL inside the notebook.***\n"
   ]
  },
  {
   "cell_type": "code",
   "execution_count": 13,
   "id": "781f4f5e-93ff-49bb-a006-12bf21671657",
   "metadata": {},
   "outputs": [],
   "source": [
    "import sqlite3\n",
    "conn = sqlite3.connect(\"../data/creditrisk.db\")"
   ]
  },
  {
   "cell_type": "markdown",
   "id": "037d5549-d508-42f5-9e59-b73f87f9c0d7",
   "metadata": {},
   "source": [
    "###### ***We list the table schema.This shows every column in credit_data with its position and type so we know exactly what fields we can query.***"
   ]
  },
  {
   "cell_type": "code",
   "execution_count": 14,
   "id": "160362b4-d947-48b6-8f59-c27c15bdaf2d",
   "metadata": {},
   "outputs": [
    {
     "name": "stdout",
     "output_type": "stream",
     "text": [
      "    cid                                  name     type  notnull dflt_value  pk\n",
      "0     0                            Unnamed: 0  INTEGER        0       None   0\n",
      "1     1                      SeriousDlqin2yrs  INTEGER        0       None   0\n",
      "2     2  RevolvingUtilizationOfUnsecuredLines     REAL        0       None   0\n",
      "3     3                                   age  INTEGER        0       None   0\n",
      "4     4  NumberOfTime30-59DaysPastDueNotWorse  INTEGER        0       None   0\n",
      "5     5                             DebtRatio     REAL        0       None   0\n",
      "6     6                         MonthlyIncome     REAL        0       None   0\n",
      "7     7       NumberOfOpenCreditLinesAndLoans  INTEGER        0       None   0\n",
      "8     8               NumberOfTimes90DaysLate  INTEGER        0       None   0\n",
      "9     9          NumberRealEstateLoansOrLines  INTEGER        0       None   0\n",
      "10   10  NumberOfTime60-89DaysPastDueNotWorse  INTEGER        0       None   0\n",
      "11   11                    NumberOfDependents     REAL        0       None   0\n"
     ]
    }
   ],
   "source": [
    "schema = pd.read_sql(\"PRAGMA table_info(credit_data);\", conn)\n",
    "print(schema)"
   ]
  },
  {
   "cell_type": "code",
   "execution_count": 15,
   "id": "e5fb9451-8000-4edc-af5d-c13dd7d79ff6",
   "metadata": {},
   "outputs": [
    {
     "data": {
      "text/plain": [
       "150000"
      ]
     },
     "execution_count": 15,
     "metadata": {},
     "output_type": "execute_result"
    }
   ],
   "source": [
    "df.to_sql(\"credit_data\", conn, if_exists=\"replace\", index=False)"
   ]
  },
  {
   "cell_type": "markdown",
   "id": "6c50c728-bf3d-4c55-93b2-c584bc45c253",
   "metadata": {},
   "source": [
    "###### ***We extract only the column names from the schema and print them as a quick list. This is a compact view that is easy to scan.***\n"
   ]
  },
  {
   "cell_type": "code",
   "execution_count": 16,
   "id": "0a72d89d-f4c4-4b7a-bdad-71944aac2f2c",
   "metadata": {},
   "outputs": [
    {
     "name": "stdout",
     "output_type": "stream",
     "text": [
      "SQLite table columns: ['ID', 'SeriousDlqin2yrs', 'RevolvingUtilizationOfUnsecuredLines', 'age', 'NumberOfTime30-59DaysPastDueNotWorse', 'DebtRatio', 'MonthlyIncome', 'NumberOfOpenCreditLinesAndLoans', 'NumberOfTimes90DaysLate', 'NumberRealEstateLoansOrLines', 'NumberOfTime60-89DaysPastDueNotWorse', 'NumberOfDependents']\n"
     ]
    }
   ],
   "source": [
    "cols = pd.read_sql(\"PRAGMA table_info(credit_data);\", conn)\n",
    "print(\"SQLite table columns:\", cols[\"name\"].tolist())\n"
   ]
  },
  {
   "cell_type": "markdown",
   "id": "1fb0543f-ed16-49af-a74a-f1606aa0a102",
   "metadata": {},
   "source": [
    "###### ***We preview five rows for key fields: the ID, the target flag SeriousDlqin2yrs, utilization, and age. This sanity-checks that the table loaded correctly and values look sensible.***"
   ]
  },
  {
   "cell_type": "code",
   "execution_count": 17,
   "id": "8f64354c-5729-4e2f-a1af-023111857992",
   "metadata": {},
   "outputs": [
    {
     "name": "stdout",
     "output_type": "stream",
     "text": [
      "   ID  SeriousDlqin2yrs  RevolvingUtilizationOfUnsecuredLines  age\n",
      "0   1                 1                              0.766127   45\n",
      "1   2                 0                              0.957151   40\n",
      "2   3                 0                              0.658180   38\n",
      "3   4                 0                              0.233810   30\n",
      "4   5                 0                              0.907239   49\n"
     ]
    }
   ],
   "source": [
    "check = pd.read_sql(\n",
    "    \"SELECT ID, SeriousDlqin2yrs, RevolvingUtilizationOfUnsecuredLines, age FROM credit_data LIMIT 5;\",\n",
    "    conn\n",
    ")\n",
    "print(check)"
   ]
  },
  {
   "cell_type": "markdown",
   "id": "af7d43d9-37de-4e24-a057-8ac529865aa5",
   "metadata": {},
   "source": [
    "###### ***We store the column name list in a Python variable.This is optional and not required for the rest of the analysis.***"
   ]
  },
  {
   "cell_type": "code",
   "execution_count": 18,
   "id": "a857bc39-2fe7-40eb-8b86-e41ff14b80e9",
   "metadata": {},
   "outputs": [
    {
     "name": "stdout",
     "output_type": "stream",
     "text": [
      "('SQLite table columns:', ['ID', 'SeriousDlqin2yrs', 'RevolvingUtilizationOfUnsecuredLines', 'age', 'NumberOfTime30-59DaysPastDueNotWorse', 'DebtRatio', 'MonthlyIncome', 'NumberOfOpenCreditLinesAndLoans', 'NumberOfTimes90DaysLate', 'NumberRealEstateLoansOrLines', 'NumberOfTime60-89DaysPastDueNotWorse', 'NumberOfDependents'])\n"
     ]
    }
   ],
   "source": [
    "credit_table = (\"SQLite table columns:\", cols[\"name\"].tolist())\n",
    "print(credit_table)\n"
   ]
  },
  {
   "cell_type": "markdown",
   "id": "d085792c-e1c6-4845-b57f-999c2a0e1924",
   "metadata": {},
   "source": [
    "###### ***We count how many rows are in the table. This confirms the dataset size we are working with.***"
   ]
  },
  {
   "cell_type": "code",
   "execution_count": 19,
   "id": "10e0e5fe-77e0-451a-82a9-ba58393e93a3",
   "metadata": {},
   "outputs": [
    {
     "data": {
      "text/html": [
       "<div>\n",
       "<style scoped>\n",
       "    .dataframe tbody tr th:only-of-type {\n",
       "        vertical-align: middle;\n",
       "    }\n",
       "\n",
       "    .dataframe tbody tr th {\n",
       "        vertical-align: top;\n",
       "    }\n",
       "\n",
       "    .dataframe thead th {\n",
       "        text-align: right;\n",
       "    }\n",
       "</style>\n",
       "<table border=\"1\" class=\"dataframe\">\n",
       "  <thead>\n",
       "    <tr style=\"text-align: right;\">\n",
       "      <th></th>\n",
       "      <th>total_rows</th>\n",
       "    </tr>\n",
       "  </thead>\n",
       "  <tbody>\n",
       "    <tr>\n",
       "      <th>0</th>\n",
       "      <td>150000</td>\n",
       "    </tr>\n",
       "  </tbody>\n",
       "</table>\n",
       "</div>"
      ],
      "text/plain": [
       "   total_rows\n",
       "0      150000"
      ]
     },
     "execution_count": 19,
     "metadata": {},
     "output_type": "execute_result"
    }
   ],
   "source": [
    "pd.read_sql(\"SELECT COUNT(*) as total_rows from credit_data;\", conn)"
   ]
  },
  {
   "cell_type": "markdown",
   "id": "7608b149-26cc-4182-98af-be9d941cbc73",
   "metadata": {},
   "source": [
    "###### ***We calculate the overall default rate. The query counts how many customers are non-default (0) and default (1), and reports each as a percent of the full dataset.***"
   ]
  },
  {
   "cell_type": "code",
   "execution_count": 20,
   "id": "808caba3-0642-4ede-9864-8a4daf454212",
   "metadata": {},
   "outputs": [
    {
     "data": {
      "text/html": [
       "<div>\n",
       "<style scoped>\n",
       "    .dataframe tbody tr th:only-of-type {\n",
       "        vertical-align: middle;\n",
       "    }\n",
       "\n",
       "    .dataframe tbody tr th {\n",
       "        vertical-align: top;\n",
       "    }\n",
       "\n",
       "    .dataframe thead th {\n",
       "        text-align: right;\n",
       "    }\n",
       "</style>\n",
       "<table border=\"1\" class=\"dataframe\">\n",
       "  <thead>\n",
       "    <tr style=\"text-align: right;\">\n",
       "      <th></th>\n",
       "      <th>SeriousDlqin2yrs</th>\n",
       "      <th>count</th>\n",
       "      <th>percent</th>\n",
       "    </tr>\n",
       "  </thead>\n",
       "  <tbody>\n",
       "    <tr>\n",
       "      <th>0</th>\n",
       "      <td>0</td>\n",
       "      <td>139974</td>\n",
       "      <td>93.0</td>\n",
       "    </tr>\n",
       "    <tr>\n",
       "      <th>1</th>\n",
       "      <td>1</td>\n",
       "      <td>10026</td>\n",
       "      <td>6.0</td>\n",
       "    </tr>\n",
       "  </tbody>\n",
       "</table>\n",
       "</div>"
      ],
      "text/plain": [
       "   SeriousDlqin2yrs   count  percent\n",
       "0                 0  139974     93.0\n",
       "1                 1   10026      6.0"
      ]
     },
     "execution_count": 20,
     "metadata": {},
     "output_type": "execute_result"
    }
   ],
   "source": [
    "pd.read_sql(\"\"\" SELECT SeriousDlqin2yrs, COUNT(*) as count,\n",
    "round(100* count(*)/ (select count(*) from credit_data),2) as percent\n",
    "from credit_data \n",
    "group by SeriousDlqin2yrs;\"\"\", conn)"
   ]
  },
  {
   "cell_type": "markdown",
   "id": "fe4e0c9d-e54d-4504-9ede-e6c41046912a",
   "metadata": {},
   "source": [
    "###### ***We check the top five records by utilization. This helps us spot extreme or unusual values that may need capping in the cleaning stage.***"
   ]
  },
  {
   "cell_type": "code",
   "execution_count": 21,
   "id": "5687555e-6af0-467f-856d-0829272d54ff",
   "metadata": {},
   "outputs": [
    {
     "data": {
      "text/html": [
       "<div>\n",
       "<style scoped>\n",
       "    .dataframe tbody tr th:only-of-type {\n",
       "        vertical-align: middle;\n",
       "    }\n",
       "\n",
       "    .dataframe tbody tr th {\n",
       "        vertical-align: top;\n",
       "    }\n",
       "\n",
       "    .dataframe thead th {\n",
       "        text-align: right;\n",
       "    }\n",
       "</style>\n",
       "<table border=\"1\" class=\"dataframe\">\n",
       "  <thead>\n",
       "    <tr style=\"text-align: right;\">\n",
       "      <th></th>\n",
       "      <th>ID</th>\n",
       "      <th>RevolvingUtilizationOfUnsecuredLines</th>\n",
       "      <th>age</th>\n",
       "    </tr>\n",
       "  </thead>\n",
       "  <tbody>\n",
       "    <tr>\n",
       "      <th>0</th>\n",
       "      <td>85490</td>\n",
       "      <td>50708.0</td>\n",
       "      <td>55</td>\n",
       "    </tr>\n",
       "    <tr>\n",
       "      <th>1</th>\n",
       "      <td>31415</td>\n",
       "      <td>29110.0</td>\n",
       "      <td>58</td>\n",
       "    </tr>\n",
       "    <tr>\n",
       "      <th>2</th>\n",
       "      <td>16957</td>\n",
       "      <td>22198.0</td>\n",
       "      <td>38</td>\n",
       "    </tr>\n",
       "    <tr>\n",
       "      <th>3</th>\n",
       "      <td>149161</td>\n",
       "      <td>22000.0</td>\n",
       "      <td>38</td>\n",
       "    </tr>\n",
       "    <tr>\n",
       "      <th>4</th>\n",
       "      <td>149280</td>\n",
       "      <td>20514.0</td>\n",
       "      <td>42</td>\n",
       "    </tr>\n",
       "  </tbody>\n",
       "</table>\n",
       "</div>"
      ],
      "text/plain": [
       "       ID  RevolvingUtilizationOfUnsecuredLines  age\n",
       "0   85490                               50708.0   55\n",
       "1   31415                               29110.0   58\n",
       "2   16957                               22198.0   38\n",
       "3  149161                               22000.0   38\n",
       "4  149280                               20514.0   42"
      ]
     },
     "execution_count": 21,
     "metadata": {},
     "output_type": "execute_result"
    }
   ],
   "source": [
    "pd.read_sql(\"\"\"\n",
    "SELECT ID, RevolvingUtilizationOfUnsecuredLines, age\n",
    "FROM credit_data\n",
    "ORDER BY RevolvingUtilizationOfUnsecuredLines DESC\n",
    "LIMIT 5;\n",
    "\"\"\", conn)"
   ]
  },
  {
   "cell_type": "markdown",
   "id": "33be9144-ccd0-49dd-b30c-8fbf1c2e568e",
   "metadata": {},
   "source": [
    "###### ***We summarize age with minimum, maximum, and average. This catches clearly invalid values such as age equal to zero and gives a sense of the customer profile.***"
   ]
  },
  {
   "cell_type": "code",
   "execution_count": 22,
   "id": "7dbe428b-9b7e-43c6-bed7-9ad43e808e9b",
   "metadata": {},
   "outputs": [
    {
     "data": {
      "text/html": [
       "<div>\n",
       "<style scoped>\n",
       "    .dataframe tbody tr th:only-of-type {\n",
       "        vertical-align: middle;\n",
       "    }\n",
       "\n",
       "    .dataframe tbody tr th {\n",
       "        vertical-align: top;\n",
       "    }\n",
       "\n",
       "    .dataframe thead th {\n",
       "        text-align: right;\n",
       "    }\n",
       "</style>\n",
       "<table border=\"1\" class=\"dataframe\">\n",
       "  <thead>\n",
       "    <tr style=\"text-align: right;\">\n",
       "      <th></th>\n",
       "      <th>min_age</th>\n",
       "      <th>max_age</th>\n",
       "      <th>avg_age</th>\n",
       "    </tr>\n",
       "  </thead>\n",
       "  <tbody>\n",
       "    <tr>\n",
       "      <th>0</th>\n",
       "      <td>0</td>\n",
       "      <td>109</td>\n",
       "      <td>52.295207</td>\n",
       "    </tr>\n",
       "  </tbody>\n",
       "</table>\n",
       "</div>"
      ],
      "text/plain": [
       "   min_age  max_age    avg_age\n",
       "0        0      109  52.295207"
      ]
     },
     "execution_count": 22,
     "metadata": {},
     "output_type": "execute_result"
    }
   ],
   "source": [
    "pd.read_sql(\"\"\"\n",
    "SELECT MIN(age) as min_age,\n",
    "MAX(age) as max_age,\n",
    "AVG(age) as avg_age\n",
    "from credit_data as Age_distribution;\"\"\", conn)"
   ]
  },
  {
   "cell_type": "markdown",
   "id": "ec1b90be-a9fa-4c53-8864-2d50e2f01a54",
   "metadata": {},
   "source": [
    "###### ***We count missing values in MonthlyIncome and NumberOfDependents.This tells us how much imputation we will need to do in the cleaning stage.***"
   ]
  },
  {
   "cell_type": "code",
   "execution_count": 23,
   "id": "10ab602e-3658-4e6a-aa65-410dbaebde47",
   "metadata": {},
   "outputs": [
    {
     "data": {
      "text/html": [
       "<div>\n",
       "<style scoped>\n",
       "    .dataframe tbody tr th:only-of-type {\n",
       "        vertical-align: middle;\n",
       "    }\n",
       "\n",
       "    .dataframe tbody tr th {\n",
       "        vertical-align: top;\n",
       "    }\n",
       "\n",
       "    .dataframe thead th {\n",
       "        text-align: right;\n",
       "    }\n",
       "</style>\n",
       "<table border=\"1\" class=\"dataframe\">\n",
       "  <thead>\n",
       "    <tr style=\"text-align: right;\">\n",
       "      <th></th>\n",
       "      <th>missing_income</th>\n",
       "      <th>missing_dependents</th>\n",
       "    </tr>\n",
       "  </thead>\n",
       "  <tbody>\n",
       "    <tr>\n",
       "      <th>0</th>\n",
       "      <td>29731</td>\n",
       "      <td>3924</td>\n",
       "    </tr>\n",
       "  </tbody>\n",
       "</table>\n",
       "</div>"
      ],
      "text/plain": [
       "   missing_income  missing_dependents\n",
       "0           29731                3924"
      ]
     },
     "execution_count": 23,
     "metadata": {},
     "output_type": "execute_result"
    }
   ],
   "source": [
    "pd.read_sql(\"\"\"\n",
    "SELECT\n",
    "SUM(CASE WHEN MonthlyIncome is NULL THEN 1 ELSE 0 END) as missing_income,\n",
    "SUM(CASE WHEN NumberOfDependents IS NULL THEN 1 ELSE 0 END) AS missing_dependents\n",
    "from credit_data;\n",
    "\"\"\", conn)"
   ]
  },
  {
   "cell_type": "markdown",
   "id": "5f2a548b-093d-4b67-860c-a52bc837b325",
   "metadata": {},
   "source": [
    "###### ***We tabulate how many customers have been 30–59 days past due and how often. This shows the distribution of short delinquencies across the portfolio.***\n"
   ]
  },
  {
   "cell_type": "code",
   "execution_count": 24,
   "id": "42f782ab-c807-413a-a9ee-9c192f498d32",
   "metadata": {},
   "outputs": [
    {
     "data": {
      "text/html": [
       "<div>\n",
       "<style scoped>\n",
       "    .dataframe tbody tr th:only-of-type {\n",
       "        vertical-align: middle;\n",
       "    }\n",
       "\n",
       "    .dataframe tbody tr th {\n",
       "        vertical-align: top;\n",
       "    }\n",
       "\n",
       "    .dataframe thead th {\n",
       "        text-align: right;\n",
       "    }\n",
       "</style>\n",
       "<table border=\"1\" class=\"dataframe\">\n",
       "  <thead>\n",
       "    <tr style=\"text-align: right;\">\n",
       "      <th></th>\n",
       "      <th>late_30_59</th>\n",
       "      <th>count</th>\n",
       "    </tr>\n",
       "  </thead>\n",
       "  <tbody>\n",
       "    <tr>\n",
       "      <th>0</th>\n",
       "      <td>0</td>\n",
       "      <td>126018</td>\n",
       "    </tr>\n",
       "    <tr>\n",
       "      <th>1</th>\n",
       "      <td>1</td>\n",
       "      <td>16033</td>\n",
       "    </tr>\n",
       "    <tr>\n",
       "      <th>2</th>\n",
       "      <td>2</td>\n",
       "      <td>4598</td>\n",
       "    </tr>\n",
       "    <tr>\n",
       "      <th>3</th>\n",
       "      <td>3</td>\n",
       "      <td>1754</td>\n",
       "    </tr>\n",
       "    <tr>\n",
       "      <th>4</th>\n",
       "      <td>4</td>\n",
       "      <td>747</td>\n",
       "    </tr>\n",
       "    <tr>\n",
       "      <th>5</th>\n",
       "      <td>5</td>\n",
       "      <td>342</td>\n",
       "    </tr>\n",
       "    <tr>\n",
       "      <th>6</th>\n",
       "      <td>6</td>\n",
       "      <td>140</td>\n",
       "    </tr>\n",
       "    <tr>\n",
       "      <th>7</th>\n",
       "      <td>7</td>\n",
       "      <td>54</td>\n",
       "    </tr>\n",
       "    <tr>\n",
       "      <th>8</th>\n",
       "      <td>8</td>\n",
       "      <td>25</td>\n",
       "    </tr>\n",
       "    <tr>\n",
       "      <th>9</th>\n",
       "      <td>9</td>\n",
       "      <td>12</td>\n",
       "    </tr>\n",
       "    <tr>\n",
       "      <th>10</th>\n",
       "      <td>10</td>\n",
       "      <td>4</td>\n",
       "    </tr>\n",
       "    <tr>\n",
       "      <th>11</th>\n",
       "      <td>11</td>\n",
       "      <td>1</td>\n",
       "    </tr>\n",
       "    <tr>\n",
       "      <th>12</th>\n",
       "      <td>12</td>\n",
       "      <td>2</td>\n",
       "    </tr>\n",
       "    <tr>\n",
       "      <th>13</th>\n",
       "      <td>13</td>\n",
       "      <td>1</td>\n",
       "    </tr>\n",
       "    <tr>\n",
       "      <th>14</th>\n",
       "      <td>96</td>\n",
       "      <td>5</td>\n",
       "    </tr>\n",
       "    <tr>\n",
       "      <th>15</th>\n",
       "      <td>98</td>\n",
       "      <td>264</td>\n",
       "    </tr>\n",
       "  </tbody>\n",
       "</table>\n",
       "</div>"
      ],
      "text/plain": [
       "    late_30_59   count\n",
       "0            0  126018\n",
       "1            1   16033\n",
       "2            2    4598\n",
       "3            3    1754\n",
       "4            4     747\n",
       "5            5     342\n",
       "6            6     140\n",
       "7            7      54\n",
       "8            8      25\n",
       "9            9      12\n",
       "10          10       4\n",
       "11          11       1\n",
       "12          12       2\n",
       "13          13       1\n",
       "14          96       5\n",
       "15          98     264"
      ]
     },
     "execution_count": 24,
     "metadata": {},
     "output_type": "execute_result"
    }
   ],
   "source": [
    "pd.read_sql(\"\"\"\n",
    "SELECT \n",
    "    \"NumberOfTime30-59DaysPastDueNotWorse\" AS late_30_59,\n",
    "    COUNT(*) AS count\n",
    "FROM credit_data\n",
    "GROUP BY \"NumberOfTime30-59DaysPastDueNotWorse\"\n",
    "ORDER BY late_30_59;\n",
    "\"\"\", conn)"
   ]
  },
  {
   "cell_type": "markdown",
   "id": "31429f97-f0a2-4c5f-b1b7-849ca16dc9db",
   "metadata": {},
   "source": [
    "###### ***We tabulate how many customers have been 60–89 days past due and how often.***"
   ]
  },
  {
   "cell_type": "code",
   "execution_count": 25,
   "id": "bb87a6e3-10c7-48c2-9f1c-7032616262b7",
   "metadata": {},
   "outputs": [
    {
     "data": {
      "text/html": [
       "<div>\n",
       "<style scoped>\n",
       "    .dataframe tbody tr th:only-of-type {\n",
       "        vertical-align: middle;\n",
       "    }\n",
       "\n",
       "    .dataframe tbody tr th {\n",
       "        vertical-align: top;\n",
       "    }\n",
       "\n",
       "    .dataframe thead th {\n",
       "        text-align: right;\n",
       "    }\n",
       "</style>\n",
       "<table border=\"1\" class=\"dataframe\">\n",
       "  <thead>\n",
       "    <tr style=\"text-align: right;\">\n",
       "      <th></th>\n",
       "      <th>late_60_89</th>\n",
       "      <th>count</th>\n",
       "    </tr>\n",
       "  </thead>\n",
       "  <tbody>\n",
       "    <tr>\n",
       "      <th>0</th>\n",
       "      <td>0</td>\n",
       "      <td>150000</td>\n",
       "    </tr>\n",
       "  </tbody>\n",
       "</table>\n",
       "</div>"
      ],
      "text/plain": [
       "   late_60_89   count\n",
       "0           0  150000"
      ]
     },
     "execution_count": 25,
     "metadata": {},
     "output_type": "execute_result"
    }
   ],
   "source": [
    "pd.read_sql(\"\"\"\n",
    "SELECT \n",
    "    \"NumberOfTime60-89DaysPastDueNotWorse\" AS late_60_89,\n",
    "    COUNT(*) AS count\n",
    "FROM credit_data\n",
    "GROUP BY \"NumbOfTime60-89DaysPastDueNotWorse\"\n",
    "ORDER BY late_60_89;\n",
    "\"\"\", conn)"
   ]
  },
  {
   "cell_type": "markdown",
   "id": "d3272aff-400c-4bf6-a09f-d672f441ec1e",
   "metadata": {},
   "source": [
    "###### ***We tabulate how many customers have been 90 or more days past due and how often. This is the most severe delinquency bucket and is usually highly predictive of risk.***"
   ]
  },
  {
   "cell_type": "code",
   "execution_count": 26,
   "id": "1641f9ac-0ec4-499d-8b7e-c05b4b15e4f3",
   "metadata": {},
   "outputs": [
    {
     "data": {
      "text/html": [
       "<div>\n",
       "<style scoped>\n",
       "    .dataframe tbody tr th:only-of-type {\n",
       "        vertical-align: middle;\n",
       "    }\n",
       "\n",
       "    .dataframe tbody tr th {\n",
       "        vertical-align: top;\n",
       "    }\n",
       "\n",
       "    .dataframe thead th {\n",
       "        text-align: right;\n",
       "    }\n",
       "</style>\n",
       "<table border=\"1\" class=\"dataframe\">\n",
       "  <thead>\n",
       "    <tr style=\"text-align: right;\">\n",
       "      <th></th>\n",
       "      <th>late_90</th>\n",
       "      <th>count</th>\n",
       "    </tr>\n",
       "  </thead>\n",
       "  <tbody>\n",
       "    <tr>\n",
       "      <th>0</th>\n",
       "      <td>0</td>\n",
       "      <td>141662</td>\n",
       "    </tr>\n",
       "    <tr>\n",
       "      <th>1</th>\n",
       "      <td>1</td>\n",
       "      <td>5243</td>\n",
       "    </tr>\n",
       "    <tr>\n",
       "      <th>2</th>\n",
       "      <td>2</td>\n",
       "      <td>1555</td>\n",
       "    </tr>\n",
       "    <tr>\n",
       "      <th>3</th>\n",
       "      <td>3</td>\n",
       "      <td>667</td>\n",
       "    </tr>\n",
       "    <tr>\n",
       "      <th>4</th>\n",
       "      <td>4</td>\n",
       "      <td>291</td>\n",
       "    </tr>\n",
       "    <tr>\n",
       "      <th>5</th>\n",
       "      <td>5</td>\n",
       "      <td>131</td>\n",
       "    </tr>\n",
       "    <tr>\n",
       "      <th>6</th>\n",
       "      <td>6</td>\n",
       "      <td>80</td>\n",
       "    </tr>\n",
       "    <tr>\n",
       "      <th>7</th>\n",
       "      <td>7</td>\n",
       "      <td>38</td>\n",
       "    </tr>\n",
       "    <tr>\n",
       "      <th>8</th>\n",
       "      <td>8</td>\n",
       "      <td>21</td>\n",
       "    </tr>\n",
       "    <tr>\n",
       "      <th>9</th>\n",
       "      <td>9</td>\n",
       "      <td>19</td>\n",
       "    </tr>\n",
       "    <tr>\n",
       "      <th>10</th>\n",
       "      <td>10</td>\n",
       "      <td>8</td>\n",
       "    </tr>\n",
       "    <tr>\n",
       "      <th>11</th>\n",
       "      <td>11</td>\n",
       "      <td>5</td>\n",
       "    </tr>\n",
       "    <tr>\n",
       "      <th>12</th>\n",
       "      <td>12</td>\n",
       "      <td>2</td>\n",
       "    </tr>\n",
       "    <tr>\n",
       "      <th>13</th>\n",
       "      <td>13</td>\n",
       "      <td>4</td>\n",
       "    </tr>\n",
       "    <tr>\n",
       "      <th>14</th>\n",
       "      <td>14</td>\n",
       "      <td>2</td>\n",
       "    </tr>\n",
       "    <tr>\n",
       "      <th>15</th>\n",
       "      <td>15</td>\n",
       "      <td>2</td>\n",
       "    </tr>\n",
       "    <tr>\n",
       "      <th>16</th>\n",
       "      <td>17</td>\n",
       "      <td>1</td>\n",
       "    </tr>\n",
       "    <tr>\n",
       "      <th>17</th>\n",
       "      <td>96</td>\n",
       "      <td>5</td>\n",
       "    </tr>\n",
       "    <tr>\n",
       "      <th>18</th>\n",
       "      <td>98</td>\n",
       "      <td>264</td>\n",
       "    </tr>\n",
       "  </tbody>\n",
       "</table>\n",
       "</div>"
      ],
      "text/plain": [
       "    late_90   count\n",
       "0         0  141662\n",
       "1         1    5243\n",
       "2         2    1555\n",
       "3         3     667\n",
       "4         4     291\n",
       "5         5     131\n",
       "6         6      80\n",
       "7         7      38\n",
       "8         8      21\n",
       "9         9      19\n",
       "10       10       8\n",
       "11       11       5\n",
       "12       12       2\n",
       "13       13       4\n",
       "14       14       2\n",
       "15       15       2\n",
       "16       17       1\n",
       "17       96       5\n",
       "18       98     264"
      ]
     },
     "execution_count": 26,
     "metadata": {},
     "output_type": "execute_result"
    }
   ],
   "source": [
    "pd.read_sql(\"\"\"\n",
    "SELECT \n",
    "    NumberOfTimes90DaysLate AS late_90,\n",
    "    COUNT(*) AS count\n",
    "FROM credit_data\n",
    "GROUP BY NumberOfTimes90DaysLate\n",
    "ORDER BY late_90;\n",
    "\"\"\", conn)"
   ]
  },
  {
   "cell_type": "markdown",
   "id": "83ffb404-764d-4b7a-800a-4367ccdda391",
   "metadata": {},
   "source": [
    "###### ***We look at a small cross-tab of the three delinquency measures together. This gives a quick sense of how often different late buckets occur in the same records.***"
   ]
  },
  {
   "cell_type": "code",
   "execution_count": 27,
   "id": "ed6443ce-1b26-4454-be30-adc40f8c30d8",
   "metadata": {},
   "outputs": [
    {
     "data": {
      "text/html": [
       "<div>\n",
       "<style scoped>\n",
       "    .dataframe tbody tr th:only-of-type {\n",
       "        vertical-align: middle;\n",
       "    }\n",
       "\n",
       "    .dataframe tbody tr th {\n",
       "        vertical-align: top;\n",
       "    }\n",
       "\n",
       "    .dataframe thead th {\n",
       "        text-align: right;\n",
       "    }\n",
       "</style>\n",
       "<table border=\"1\" class=\"dataframe\">\n",
       "  <thead>\n",
       "    <tr style=\"text-align: right;\">\n",
       "      <th></th>\n",
       "      <th>late_30_59</th>\n",
       "      <th>late_60_89</th>\n",
       "      <th>late_90</th>\n",
       "      <th>count</th>\n",
       "    </tr>\n",
       "  </thead>\n",
       "  <tbody>\n",
       "    <tr>\n",
       "      <th>0</th>\n",
       "      <td>0</td>\n",
       "      <td>0</td>\n",
       "      <td>0</td>\n",
       "      <td>119637</td>\n",
       "    </tr>\n",
       "    <tr>\n",
       "      <th>1</th>\n",
       "      <td>0</td>\n",
       "      <td>0</td>\n",
       "      <td>1</td>\n",
       "      <td>2332</td>\n",
       "    </tr>\n",
       "    <tr>\n",
       "      <th>2</th>\n",
       "      <td>0</td>\n",
       "      <td>0</td>\n",
       "      <td>2</td>\n",
       "      <td>498</td>\n",
       "    </tr>\n",
       "    <tr>\n",
       "      <th>3</th>\n",
       "      <td>0</td>\n",
       "      <td>0</td>\n",
       "      <td>3</td>\n",
       "      <td>184</td>\n",
       "    </tr>\n",
       "    <tr>\n",
       "      <th>4</th>\n",
       "      <td>0</td>\n",
       "      <td>0</td>\n",
       "      <td>4</td>\n",
       "      <td>71</td>\n",
       "    </tr>\n",
       "    <tr>\n",
       "      <th>5</th>\n",
       "      <td>0</td>\n",
       "      <td>0</td>\n",
       "      <td>5</td>\n",
       "      <td>33</td>\n",
       "    </tr>\n",
       "    <tr>\n",
       "      <th>6</th>\n",
       "      <td>0</td>\n",
       "      <td>0</td>\n",
       "      <td>6</td>\n",
       "      <td>18</td>\n",
       "    </tr>\n",
       "    <tr>\n",
       "      <th>7</th>\n",
       "      <td>0</td>\n",
       "      <td>0</td>\n",
       "      <td>7</td>\n",
       "      <td>10</td>\n",
       "    </tr>\n",
       "    <tr>\n",
       "      <th>8</th>\n",
       "      <td>0</td>\n",
       "      <td>0</td>\n",
       "      <td>8</td>\n",
       "      <td>9</td>\n",
       "    </tr>\n",
       "    <tr>\n",
       "      <th>9</th>\n",
       "      <td>0</td>\n",
       "      <td>0</td>\n",
       "      <td>9</td>\n",
       "      <td>7</td>\n",
       "    </tr>\n",
       "  </tbody>\n",
       "</table>\n",
       "</div>"
      ],
      "text/plain": [
       "   late_30_59  late_60_89  late_90   count\n",
       "0           0           0        0  119637\n",
       "1           0           0        1    2332\n",
       "2           0           0        2     498\n",
       "3           0           0        3     184\n",
       "4           0           0        4      71\n",
       "5           0           0        5      33\n",
       "6           0           0        6      18\n",
       "7           0           0        7      10\n",
       "8           0           0        8       9\n",
       "9           0           0        9       7"
      ]
     },
     "execution_count": 27,
     "metadata": {},
     "output_type": "execute_result"
    }
   ],
   "source": [
    "\tpd.read_sql(\"\"\"\n",
    "\tSELECT \n",
    "\t    \"NumberOfTime30-59DaysPastDueNotWorse\" AS late_30_59,\n",
    "\t    \"NumberOfTime60-89DaysPastDueNotWorse\" AS late_60_89,\n",
    "\t    \"NumberOfTimes90DaysLate\" AS late_90,\n",
    "\t    COUNT(*) AS count\n",
    "\tFROM credit_data\n",
    "\tGROUP BY \"NumberOfTime30-59DaysPastDueNotWorse\",\n",
    "\t\"NumberOfTime60-89DaysPastDueNotWorse\",\n",
    "\t\"NumberOfTimes90DaysLate\"\n",
    "\tORDER BY late_30_59,\n",
    "\tlate_60_89,\n",
    "\tlate_90\n",
    "\tLIMIT 10;\n",
    "\t\"\"\", conn)\n"
   ]
  },
  {
   "cell_type": "markdown",
   "id": "8a519ed9-f941-4c8d-b764-20f07f41d89a",
   "metadata": {},
   "source": [
    "###### ***We count how many customers have zero, one, two, or more dependents. This gives context for missing dependent values and for later binning choices.***"
   ]
  },
  {
   "cell_type": "code",
   "execution_count": 28,
   "id": "af1cb433-4409-4ea7-ad3f-cbfcc78deeac",
   "metadata": {},
   "outputs": [
    {
     "data": {
      "text/html": [
       "<div>\n",
       "<style scoped>\n",
       "    .dataframe tbody tr th:only-of-type {\n",
       "        vertical-align: middle;\n",
       "    }\n",
       "\n",
       "    .dataframe tbody tr th {\n",
       "        vertical-align: top;\n",
       "    }\n",
       "\n",
       "    .dataframe thead th {\n",
       "        text-align: right;\n",
       "    }\n",
       "</style>\n",
       "<table border=\"1\" class=\"dataframe\">\n",
       "  <thead>\n",
       "    <tr style=\"text-align: right;\">\n",
       "      <th></th>\n",
       "      <th>dependents</th>\n",
       "      <th>count</th>\n",
       "    </tr>\n",
       "  </thead>\n",
       "  <tbody>\n",
       "    <tr>\n",
       "      <th>0</th>\n",
       "      <td>NaN</td>\n",
       "      <td>3924</td>\n",
       "    </tr>\n",
       "    <tr>\n",
       "      <th>1</th>\n",
       "      <td>0.0</td>\n",
       "      <td>86902</td>\n",
       "    </tr>\n",
       "    <tr>\n",
       "      <th>2</th>\n",
       "      <td>1.0</td>\n",
       "      <td>26316</td>\n",
       "    </tr>\n",
       "    <tr>\n",
       "      <th>3</th>\n",
       "      <td>2.0</td>\n",
       "      <td>19522</td>\n",
       "    </tr>\n",
       "    <tr>\n",
       "      <th>4</th>\n",
       "      <td>3.0</td>\n",
       "      <td>9483</td>\n",
       "    </tr>\n",
       "    <tr>\n",
       "      <th>5</th>\n",
       "      <td>4.0</td>\n",
       "      <td>2862</td>\n",
       "    </tr>\n",
       "    <tr>\n",
       "      <th>6</th>\n",
       "      <td>5.0</td>\n",
       "      <td>746</td>\n",
       "    </tr>\n",
       "    <tr>\n",
       "      <th>7</th>\n",
       "      <td>6.0</td>\n",
       "      <td>158</td>\n",
       "    </tr>\n",
       "    <tr>\n",
       "      <th>8</th>\n",
       "      <td>7.0</td>\n",
       "      <td>51</td>\n",
       "    </tr>\n",
       "    <tr>\n",
       "      <th>9</th>\n",
       "      <td>8.0</td>\n",
       "      <td>24</td>\n",
       "    </tr>\n",
       "    <tr>\n",
       "      <th>10</th>\n",
       "      <td>9.0</td>\n",
       "      <td>5</td>\n",
       "    </tr>\n",
       "    <tr>\n",
       "      <th>11</th>\n",
       "      <td>10.0</td>\n",
       "      <td>5</td>\n",
       "    </tr>\n",
       "    <tr>\n",
       "      <th>12</th>\n",
       "      <td>13.0</td>\n",
       "      <td>1</td>\n",
       "    </tr>\n",
       "    <tr>\n",
       "      <th>13</th>\n",
       "      <td>20.0</td>\n",
       "      <td>1</td>\n",
       "    </tr>\n",
       "  </tbody>\n",
       "</table>\n",
       "</div>"
      ],
      "text/plain": [
       "    dependents  count\n",
       "0          NaN   3924\n",
       "1          0.0  86902\n",
       "2          1.0  26316\n",
       "3          2.0  19522\n",
       "4          3.0   9483\n",
       "5          4.0   2862\n",
       "6          5.0    746\n",
       "7          6.0    158\n",
       "8          7.0     51\n",
       "9          8.0     24\n",
       "10         9.0      5\n",
       "11        10.0      5\n",
       "12        13.0      1\n",
       "13        20.0      1"
      ]
     },
     "execution_count": 28,
     "metadata": {},
     "output_type": "execute_result"
    }
   ],
   "source": [
    "pd.read_sql(\"\"\"\n",
    "SELECT NumberOfDependents as dependents,\n",
    "COUNT(*) as count\n",
    "from credit_data\n",
    "GROUP BY NumberOfDependents\n",
    "ORDER BY NumberOfDependents;\n",
    "\"\"\", conn)"
   ]
  },
  {
   "cell_type": "markdown",
   "id": "d440a523-87d3-4283-aa10-b8ac9e237b5b",
   "metadata": {},
   "source": [
    "##### **Stage 2 summary**\n",
    "\n",
    "- We confirmed the table structure, counted rows, and measured the overall default rate.  \n",
    "- We scanned age and utilization for unusual values.  \n",
    "- We quantified missing income and dependents so we know how much imputation is needed.  \n",
    "- We profiled delinquency counts across 30–59, 60–89, and 90+ day buckets, and reviewed the dependents distribution.  \n",
    "\n",
    "These findings guide the next stage where we clean the data, cap outliers, and create business-friendly bins for modelling."
   ]
  },
  {
   "cell_type": "markdown",
   "id": "899fe4c0-8633-4543-8f31-9d868ce36d06",
   "metadata": {},
   "source": [
    "## Stage 3: Data Cleaning and Feature Engineering\n",
    "\n",
    "In this stage we improve data quality and prepare features for modeling.  \n",
    "From the SQL analysis we know there are missing values, unrealistic ages, extreme utilization, and very high delinquency counts.  \n",
    "We handle these issues systematically and then create binned variables and Weight of Evidence (WoE) transformations that are suitable for logistic regression.\n",
    "\n",
    "Steps in this stage:\n",
    "- Handle missing values (income, dependents)\n",
    "- Correct outliers (minimum age, maximum utilization, delinquency caps, dependents)\n",
    "- Create grouped variables for age, income, and utilization\n",
    "- Calculate Weight of Evidence (WoE) and Information Value (IV) for each variable\n",
    "- Map WoE values back into the dataset as model-ready features"
   ]
  },
  {
   "cell_type": "markdown",
   "id": "71221e49-4701-4703-af94-fbaa33a2f17f",
   "metadata": {},
   "source": [
    "###### ***We compute the median MonthlyIncome so we have a stable business value to fill missing incomes without being influenced by extreme values.***"
   ]
  },
  {
   "cell_type": "code",
   "execution_count": 29,
   "id": "396d415a-22c4-4be6-9294-6df8f212e1e9",
   "metadata": {},
   "outputs": [
    {
     "name": "stdout",
     "output_type": "stream",
     "text": [
      "5400.0\n"
     ]
    }
   ],
   "source": [
    "median_income= df[\"MonthlyIncome\"].median()\n",
    "print(median_income)"
   ]
  },
  {
   "cell_type": "markdown",
   "id": "9df194e4-c6be-47d1-8d7f-1ee4af4c1f03",
   "metadata": {},
   "source": [
    "###### ***We fill missing MonthlyIncome with the median so we keep customers in the dataset and avoid bias from very high or very low incomes.***"
   ]
  },
  {
   "cell_type": "code",
   "execution_count": 30,
   "id": "df49d04c-8399-4736-8f29-b1e03e34fde0",
   "metadata": {},
   "outputs": [],
   "source": [
    "df[\"MonthlyIncome\"]=df[\"MonthlyIncome\"].fillna(median_income)"
   ]
  },
  {
   "cell_type": "markdown",
   "id": "e6b9e9fb-05bd-4a96-b639-dacd14f7ecb3",
   "metadata": {},
   "source": [
    "###### ***We count how many dependent values are missing so we know the size of the cleaning task before filling.***"
   ]
  },
  {
   "cell_type": "code",
   "execution_count": 31,
   "id": "7e3ff015-5dbd-4705-b013-dce539f42d13",
   "metadata": {},
   "outputs": [
    {
     "name": "stdout",
     "output_type": "stream",
     "text": [
      "3924\n"
     ]
    }
   ],
   "source": [
    "print(df[\"NumberOfDependents\"].isnull().sum())"
   ]
  },
  {
   "cell_type": "markdown",
   "id": "e497e836-8f57-4b01-9efb-94ca5d297f1b",
   "metadata": {},
   "source": [
    "###### ***We fill missing NumberOfDependents with zero as a simple and transparent rule that keeps the dataset complete.***"
   ]
  },
  {
   "cell_type": "code",
   "execution_count": 32,
   "id": "789ad2b3-f20c-466a-bb59-2f470c7a43ec",
   "metadata": {},
   "outputs": [],
   "source": [
    "df[\"NumberOfDependents\"]=df[\"NumberOfDependents\"].fillna(0)"
   ]
  },
  {
   "cell_type": "markdown",
   "id": "c95ad8bd-b4df-44cf-bd04-faf3183f8e48",
   "metadata": {},
   "source": [
    "###### ***We confirm that missing values for NumberOfDependents and MonthlyIncome are now resolved after the fills.***"
   ]
  },
  {
   "cell_type": "code",
   "execution_count": 33,
   "id": "93c0efb2-f7f3-49b5-b634-0d3a1ab7271f",
   "metadata": {},
   "outputs": [
    {
     "name": "stdout",
     "output_type": "stream",
     "text": [
      "NumberOfDependents    0\n",
      "MonthlyIncome         0\n",
      "dtype: int64\n"
     ]
    }
   ],
   "source": [
    "print(df[[\"NumberOfDependents\",\"MonthlyIncome\"]].isnull().sum())"
   ]
  },
  {
   "cell_type": "markdown",
   "id": "c4486484-d1e4-4304-a9c9-269436994ad9",
   "metadata": {},
   "source": [
    "###### ***We fix invalid ages by setting any age below eighteen to eighteen so the dataset reflects realistic adult customers.***"
   ]
  },
  {
   "cell_type": "code",
   "execution_count": 34,
   "id": "65263fe1-a8a9-4c07-a980-b0d7d7bf236d",
   "metadata": {},
   "outputs": [],
   "source": [
    "df.loc[df[\"age\"] < 18, \"age\"] = 18"
   ]
  },
  {
   "cell_type": "markdown",
   "id": "428e75d9-36a2-4490-aad1-f4cf35e0ca39",
   "metadata": {},
   "source": [
    "###### ***We confirm that there are no remaining customers with age below eighteen after the correction.***"
   ]
  },
  {
   "cell_type": "code",
   "execution_count": 35,
   "id": "4dadfbdb-4b58-4247-af3c-f685077314fa",
   "metadata": {},
   "outputs": [
    {
     "name": "stdout",
     "output_type": "stream",
     "text": [
      "Age < 18 now: 0\n"
     ]
    }
   ],
   "source": [
    "print(\"Age < 18 now:\", (df[\"age\"]<18).sum())"
   ]
  },
  {
   "cell_type": "markdown",
   "id": "4ce251e7-4aa9-4cfb-85cf-5077daec7b58",
   "metadata": {},
   "source": [
    "###### ***We cap credit utilisation at one hundred percent so extreme values do not distort the model.***"
   ]
  },
  {
   "cell_type": "code",
   "execution_count": 36,
   "id": "b74c8fe0-1834-4f2a-90aa-272441a94c86",
   "metadata": {},
   "outputs": [],
   "source": [
    "df.loc[df[\"RevolvingUtilizationOfUnsecuredLines\"] > 1, \"RevolvingUtilizationOfUnsecuredLines\"] = 1.0"
   ]
  },
  {
   "cell_type": "markdown",
   "id": "4aea2a8e-70bb-4e91-9d04-64f078bcb40d",
   "metadata": {},
   "source": [
    "###### ***We confirm that no customers remain with utilization above one hundred percent after capping.***"
   ]
  },
  {
   "cell_type": "code",
   "execution_count": 37,
   "id": "c64f408f-e034-44c8-8419-334b884dee8a",
   "metadata": {},
   "outputs": [
    {
     "name": "stdout",
     "output_type": "stream",
     "text": [
      "Untilisation>1 now: 0\n"
     ]
    }
   ],
   "source": [
    "print(\"Untilisation>1 now:\", (df[\"RevolvingUtilizationOfUnsecuredLines\"] > 1).sum())"
   ]
  },
  {
   "cell_type": "markdown",
   "id": "2d93b59d-fe1d-441b-b1de-6d77b9eb81b5",
   "metadata": {},
   "source": [
    "###### ***We confirm that no customers remain with utilization above one hundred percent after capping.***"
   ]
  },
  {
   "cell_type": "code",
   "execution_count": 38,
   "id": "0e2f3004-c7e1-4202-b811-ac3e54a2b793",
   "metadata": {},
   "outputs": [
    {
     "name": "stdout",
     "output_type": "stream",
     "text": [
      "Max utilisation now: 1.0\n"
     ]
    }
   ],
   "source": [
    "print(\"Max utilisation now:\", df[\"RevolvingUtilizationOfUnsecuredLines\"].max())"
   ]
  },
  {
   "cell_type": "markdown",
   "id": "a17a7794-74ee-4290-93fd-78a0987c8d3d",
   "metadata": {},
   "source": [
    "###### ***We check the maximum delinquency counts for 30–59, 60–89, and 90-plus-day late payments to identify extreme outliers.***"
   ]
  },
  {
   "cell_type": "code",
   "execution_count": 39,
   "id": "41d75fd4-f871-4555-b113-1caa581299be",
   "metadata": {},
   "outputs": [
    {
     "name": "stdout",
     "output_type": "stream",
     "text": [
      "Max 30–59 late: 98\n",
      "Max 60–89 late: 98\n",
      "Max 90+ late  : 98\n"
     ]
    }
   ],
   "source": [
    "print(\"Max 30–59 late:\", df[\"NumberOfTime30-59DaysPastDueNotWorse\"].max())\n",
    "print(\"Max 60–89 late:\", df[\"NumberOfTime60-89DaysPastDueNotWorse\"].max())\n",
    "print(\"Max 90+ late  :\", df[\"NumberOfTimes90DaysLate\"].max())"
   ]
  },
  {
   "cell_type": "markdown",
   "id": "ac579acc-45f2-4189-af9c-0ea03ce9b758",
   "metadata": {},
   "source": [
    "###### ***We list customers with more than twenty 30–59 day late events to review extreme delinquency cases.***"
   ]
  },
  {
   "cell_type": "code",
   "execution_count": 40,
   "id": "f1d0c024-73b8-464e-bfb5-b12cbfcac3f1",
   "metadata": {},
   "outputs": [
    {
     "name": "stdout",
     "output_type": "stream",
     "text": [
      "            ID  NumberOfTime30-59DaysPastDueNotWorse\n",
      "1733      1734                                    98\n",
      "2286      2287                                    98\n",
      "3884      3885                                    98\n",
      "4417      4418                                    98\n",
      "4705      4706                                    98\n",
      "...        ...                                   ...\n",
      "147774  147775                                    98\n",
      "149153  149154                                    98\n",
      "149239  149240                                    98\n",
      "149439  149440                                    98\n",
      "149769  149770                                    98\n",
      "\n",
      "[269 rows x 2 columns]\n"
     ]
    }
   ],
   "source": [
    "print(df[df[\"NumberOfTime30-59DaysPastDueNotWorse\"] > 20][[\"ID\", \"NumberOfTime30-59DaysPastDueNotWorse\"]])"
   ]
  },
  {
   "cell_type": "markdown",
   "id": "1f244e58-5f98-4c88-9005-0ee50338ba81",
   "metadata": {},
   "source": [
    "###### ***We cap the 30–59 day delinquency count at ten to limit the influence of extreme outliers.***"
   ]
  },
  {
   "cell_type": "code",
   "execution_count": 41,
   "id": "e603554a-f199-4395-886c-02d2825dc1a1",
   "metadata": {},
   "outputs": [],
   "source": [
    "df[\"NumberOfTime30-59DaysPastDueNotWorse\"] = (\n",
    "    df[\"NumberOfTime30-59DaysPastDueNotWorse\"].clip(upper=10)\n",
    ")"
   ]
  },
  {
   "cell_type": "markdown",
   "id": "f6ed69d7-57de-4628-966a-981027f15c0d",
   "metadata": {},
   "source": [
    "###### ***We confirm that no customers remain with more than ten 30–59 day delinquency events.***"
   ]
  },
  {
   "cell_type": "code",
   "execution_count": 42,
   "id": "20f1257f-511b-4442-893e-e0c02798de49",
   "metadata": {},
   "outputs": [
    {
     "name": "stdout",
     "output_type": "stream",
     "text": [
      ">10 in 30–59 now: 0\n"
     ]
    }
   ],
   "source": [
    "print(\">10 in 30–59 now:\",(df[\"NumberOfTime30-59DaysPastDueNotWorse\"] > 10).sum())"
   ]
  },
  {
   "cell_type": "markdown",
   "id": "bf012336-18f9-4caa-8214-211130b3e2ff",
   "metadata": {},
   "source": [
    "###### ***We cap the 60–89 day delinquency count at ten to stabilize this variable.***"
   ]
  },
  {
   "cell_type": "code",
   "execution_count": 43,
   "id": "47a90823-ebaa-48b3-ab16-ad2e0dba4d2f",
   "metadata": {},
   "outputs": [],
   "source": [
    "df[\"NumberOfTime60-89DaysPastDueNotWorse\"] = (\n",
    "    df[\"NumberOfTime60-89DaysPastDueNotWorse\"].clip(upper=10)\n",
    ")"
   ]
  },
  {
   "cell_type": "markdown",
   "id": "14c46d33-b380-4807-9b17-679d503ed9cf",
   "metadata": {},
   "source": [
    "###### ***We confirm that no customers remain with more than ten 60–89 day delinquency events.***"
   ]
  },
  {
   "cell_type": "code",
   "execution_count": 44,
   "id": "f4526b13-2833-4b89-a629-50c0bc31b9ed",
   "metadata": {},
   "outputs": [
    {
     "name": "stdout",
     "output_type": "stream",
     "text": [
      ">10 in 60–89 now: 0\n"
     ]
    }
   ],
   "source": [
    "print(\">10 in 60–89 now:\",(df[\"NumberOfTime60-89DaysPastDueNotWorse\"] > 10).sum())"
   ]
  },
  {
   "cell_type": "markdown",
   "id": "102389cc-9e8f-4687-9c8f-bf532a340586",
   "metadata": {},
   "source": [
    "###### ***We cap the 90 plus day delinquency count at ten to reduce the impact of extreme late cases.***"
   ]
  },
  {
   "cell_type": "code",
   "execution_count": 45,
   "id": "e2843f26-80d1-43af-937d-16288cd64d54",
   "metadata": {},
   "outputs": [],
   "source": [
    "df[\"NumberOfTimes90DaysLate\"] = (\n",
    "    df[\"NumberOfTimes90DaysLate\"].clip(upper=10)\n",
    ")"
   ]
  },
  {
   "cell_type": "markdown",
   "id": "1d08d3e2-d622-4b31-99e0-3b74742a4814",
   "metadata": {},
   "source": [
    "###### ***We confirm that no customers remain with more than ten 90 plus day delinquency events.***"
   ]
  },
  {
   "cell_type": "code",
   "execution_count": 46,
   "id": "2b7f9b9e-bb0c-4fad-ab31-b32d3b0a4d1a",
   "metadata": {},
   "outputs": [
    {
     "name": "stdout",
     "output_type": "stream",
     "text": [
      ">10 in 90 now: 0\n"
     ]
    }
   ],
   "source": [
    "print(\">10 in 90 now:\",(df[\"NumberOfTimes90DaysLate\"] > 10).sum())"
   ]
  },
  {
   "cell_type": "markdown",
   "id": "bd1689d2-e378-4782-bedb-39a2e14e2dba",
   "metadata": {},
   "source": [
    "###### ***We cap the number of dependents at six so extreme household sizes do not distort the model.***"
   ]
  },
  {
   "cell_type": "code",
   "execution_count": 47,
   "id": "3cfec60f-337c-4132-bdd4-ad26a6196b5f",
   "metadata": {},
   "outputs": [],
   "source": [
    "df[\"NumberOfDependents\"] = df[\"NumberOfDependents\"].clip(upper=6)"
   ]
  },
  {
   "cell_type": "markdown",
   "id": "86c7e165-f613-4f3c-8b88-63b70b943aee",
   "metadata": {},
   "source": [
    "###### ***We confirm that no customers remain with more than six dependents and print the new maximum.***"
   ]
  },
  {
   "cell_type": "code",
   "execution_count": 48,
   "id": "a6df0e42-6bfa-4872-bfcf-f4734e09f3b2",
   "metadata": {},
   "outputs": [
    {
     "name": "stdout",
     "output_type": "stream",
     "text": [
      "Dependents >6 now: 0\n"
     ]
    }
   ],
   "source": [
    "print(\"Dependents >6 now:\", (df[\"NumberOfDependents\"] >6).sum())"
   ]
  },
  {
   "cell_type": "code",
   "execution_count": 49,
   "id": "365a4d41-8da2-40ce-8177-a45b461912b8",
   "metadata": {},
   "outputs": [
    {
     "name": "stdout",
     "output_type": "stream",
     "text": [
      "Max dependents now: 6.0\n"
     ]
    }
   ],
   "source": [
    "print (\"Max dependents now:\", df[\"NumberOfDependents\"].max())"
   ]
  },
  {
   "cell_type": "markdown",
   "id": "1871e9fa-9f0f-4700-ace3-9ba7871db5f9",
   "metadata": {},
   "source": [
    "###### ***We create age groups using pd.cut so each customer is assigned to a clear age band.***"
   ]
  },
  {
   "cell_type": "code",
   "execution_count": 50,
   "id": "3eeda1c8-515b-4493-ac19-870b141e2557",
   "metadata": {},
   "outputs": [],
   "source": [
    "# Define bin edges\n",
    "age_bins = [18, 25, 35, 45, 55, 65, 120]\n",
    "\n",
    "# Define bin labels (must be one less than number of edges)\n",
    "age_labels = [\"18-25\", \"26-35\", \"36-45\", \"46-55\", \"56-65\", \"66+\"]\n",
    "\n",
    "# Create the binned variable\n",
    "df[\"age_bin\"] = pd.cut( df[\"age\"], bins = age_bins, labels = age_labels, right = True, include_lowest=True)"
   ]
  },
  {
   "cell_type": "markdown",
   "id": "5c46d0b6-3ce3-47d2-a7d6-b9193b50330e",
   "metadata": {},
   "source": [
    "###### ***We count how many customers fall into each age group to confirm proper binning.***"
   ]
  },
  {
   "cell_type": "code",
   "execution_count": 51,
   "id": "93ca00bd-9e9f-437e-b960-b68c959ce919",
   "metadata": {},
   "outputs": [
    {
     "name": "stdout",
     "output_type": "stream",
     "text": [
      "age_bin\n",
      "18-25     3028\n",
      "26-35    18458\n",
      "36-45    29819\n",
      "46-55    36690\n",
      "56-65    33406\n",
      "66+      28599\n",
      "Name: count, dtype: int64\n"
     ]
    }
   ],
   "source": [
    "# Check: how many rows per bin?\n",
    "print(df[\"age_bin\"].value_counts(dropna=False).sort_index())"
   ]
  },
  {
   "cell_type": "markdown",
   "id": "a1e2753b-7a5c-423d-a15b-008c2208302e",
   "metadata": {},
   "source": [
    "###### ***We summarise default rates by age group to see how risk changes across age bands.***"
   ]
  },
  {
   "cell_type": "code",
   "execution_count": 52,
   "id": "c8750ed3-d9c5-4387-a917-9aa3e7e01bb0",
   "metadata": {},
   "outputs": [
    {
     "name": "stdout",
     "output_type": "stream",
     "text": [
      "  age_bin      n  bad_rate\n",
      "0   18-25   3028  0.111625\n",
      "1   26-35  18458  0.111225\n",
      "2   36-45  29819  0.088132\n",
      "3   46-55  36690  0.075933\n",
      "4   56-65  33406  0.045830\n",
      "5     66+  28599  0.024127\n"
     ]
    }
   ],
   "source": [
    "# Summarise default behaviour by age bins\n",
    "# Why: we want to see how many customers (n) and what % defaulted (bad_rate) in each bin\n",
    "age_summary =  (\n",
    "    df.groupby(\"age_bin\", observed=False)[\"SeriousDlqin2yrs\"]  # Step 1: group rows by age_bin \n",
    "    .agg(n=\"count\", bad_rate= \"mean\")                          # Step 2: count customers, calculate mean (0/1 av dderage = % default)\n",
    "    .reset_index()                                             # Step 3: make age_bin a normal column (not index), easier to use later\n",
    ")\n",
    "print(age_summary)"
   ]
  },
  {
   "cell_type": "markdown",
   "id": "b1c9776f-03c9-4795-a7f3-ba1d9063d250",
   "metadata": {},
   "source": [
    "###### ***We create income groups using quantile bins and calculate counts and default rates for each group.***"
   ]
  },
  {
   "cell_type": "code",
   "execution_count": 53,
   "id": "f3c02481-132d-4d80-88ee-496130fda8d9",
   "metadata": {},
   "outputs": [],
   "source": [
    "# Summarise default behaviour by income bins\n",
    "# Why: income is skewed, so we use quantile bins (equal-sized groups) to see how default rates change across income levels\n",
    "\n",
    "# Step 1: create 5 income bins using qcut (quintiles = 20% each)\n",
    "df[\"income_bin\"] = pd.qcut(\n",
    "    df[\"MonthlyIncome\"],        # column to bin\n",
    "    q=5,                        # split into 5 groups of equal size\n",
    "    duplicates = \"drop\")        # in case multiple bins have the same boundary"
   ]
  },
  {
   "cell_type": "code",
   "execution_count": 54,
   "id": "2145e98a-0067-477a-b633-aec82e8686af",
   "metadata": {},
   "outputs": [
    {
     "name": "stdout",
     "output_type": "stream",
     "text": [
      "            income_bin      n  bad_rate\n",
      "0     (-0.001, 3400.0]  30289  0.092080\n",
      "1     (3400.0, 5400.0]  59757  0.067457\n",
      "2     (5400.0, 8250.0]  29961  0.060712\n",
      "3  (8250.0, 3008750.0]  29993  0.046244\n"
     ]
    }
   ],
   "source": [
    "# Step 2: group by new bins and calculate counts + default rates\n",
    "income_summary = (\n",
    "    df.groupby(\"income_bin\", observed=False)[\"SeriousDlqin2yrs\"]\n",
    "      .agg(n=\"count\", bad_rate=\"mean\")\n",
    "      .reset_index()\n",
    ")\n",
    "\n",
    "print(income_summary)"
   ]
  },
  {
   "cell_type": "markdown",
   "id": "4a560118-fad0-4874-8d56-d2710ce2a2df",
   "metadata": {},
   "source": [
    "###### ***We create utilization groups with business friendly ranges such as 0–10 percent and 10–30 percent.***"
   ]
  },
  {
   "cell_type": "code",
   "execution_count": 55,
   "id": "2254c18a-7f54-41e2-8514-7cfd416e0b3c",
   "metadata": {},
   "outputs": [],
   "source": [
    "util_bins = [0.0, 0.10, 0.30, 0.60, 1.00]       # bin edges\n",
    "util_labels = [\"0-10%\", \"10-30%\", \"30-60%\", \"60-100%\"]  # readable labels"
   ]
  },
  {
   "cell_type": "markdown",
   "id": "6eb990b1-e996-4ebc-a285-3765995b7d08",
   "metadata": {},
   "source": [
    "###### ***We summarise default rates by utilisation group to confirm strong risk patterns.***"
   ]
  },
  {
   "cell_type": "code",
   "execution_count": 56,
   "id": "d3014f8d-2a62-4285-86d9-6f959298c1d0",
   "metadata": {},
   "outputs": [],
   "source": [
    "df[\"util_bin\"] = pd.cut(\n",
    "    df[\"RevolvingUtilizationOfUnsecuredLines\"],  # column to bin\n",
    "    bins=util_bins,                              # our chosen cut points\n",
    "    labels=util_labels,                          # assign labels to bins\n",
    "    right=True,                                  # include the right edge (e.g., 0.10 in \"0-10%\")\n",
    "    include_lowest=True                          # include 0.0 in the first bin\n",
    ")"
   ]
  },
  {
   "cell_type": "code",
   "execution_count": 57,
   "id": "b2034ba4-1f88-40c9-b685-baed68cd36db",
   "metadata": {},
   "outputs": [
    {
     "name": "stdout",
     "output_type": "stream",
     "text": [
      "  util_bin      n  bad_rate\n",
      "0    0-10%  64404  0.018104\n",
      "1   10-30%  28478  0.031428\n",
      "2   30-60%  21887  0.066798\n",
      "3  60-100%  35231  0.184582\n"
     ]
    }
   ],
   "source": [
    "util_summary = (\n",
    "    df.groupby(\"util_bin\", observed=False)[\"SeriousDlqin2yrs\"]\n",
    "      .agg(n=\"count\", bad_rate=\"mean\")   # n = customers, mean = default rate\n",
    "      .reset_index()\n",
    ")\n",
    "\n",
    "print(util_summary)"
   ]
  },
  {
   "cell_type": "markdown",
   "id": "234e2b46-7483-4195-a115-2fa12c7d16a8",
   "metadata": {},
   "source": [
    "###### ***We build a detailed utilization table with customer counts, defaults, non defaults, and default rate.***"
   ]
  },
  {
   "cell_type": "code",
   "execution_count": 58,
   "id": "155b8a99-2bbe-4752-afed-5dd90289c05f",
   "metadata": {},
   "outputs": [
    {
     "name": "stdout",
     "output_type": "stream",
     "text": [
      "  util_bin      n  bad_count  bad_rate  good_count\n",
      "0    0-10%  64404       1166  0.018104       63238\n",
      "1   10-30%  28478        895  0.031428       27583\n",
      "2   30-60%  21887       1462  0.066798       20425\n",
      "3  60-100%  35231       6503  0.184582       28728\n"
     ]
    }
   ],
   "source": [
    "# Step 1 — Build a detailed count table for utilisation (goods/bads/total + basic rates)\n",
    "\n",
    "util_detail = (\n",
    "    df.groupby(\"util_bin\", observed=False)[\"SeriousDlqin2yrs\"]\n",
    "      .agg(\n",
    "          n=\"count\",        # total customers in this bin\n",
    "          bad_count=\"sum\",  # number of defaults (sum of 0/1 target)\n",
    "          bad_rate=\"mean\"   # default rate = bad_count / n\n",
    "      )\n",
    "      .assign(\n",
    "          good_count=lambda t: t[\"n\"] - t[\"bad_count\"]  # non-defaults = total - defaults\n",
    "      )\n",
    "      .reset_index()  # make 'util_bin' a normal column (not the index)\n",
    ")\n",
    "\n",
    "print(util_detail)"
   ]
  },
  {
   "cell_type": "markdown",
   "id": "2ebb9cc4-4ff2-49fc-96c9-a7940b900822",
   "metadata": {},
   "source": [
    "###### ***We calculate the distribution of good and bad customers across utilization groups to prepare for WoE and IV.***"
   ]
  },
  {
   "cell_type": "code",
   "execution_count": 59,
   "id": "3203e71a-747f-4cae-81d9-07caa81e5bdc",
   "metadata": {},
   "outputs": [
    {
     "name": "stdout",
     "output_type": "stream",
     "text": [
      "  util_bin      n  bad_count  bad_rate  good_count  dist_good  dist_bad\n",
      "0    0-10%  64404       1166  0.018104       63238   0.451784  0.116298\n",
      "1   10-30%  28478        895  0.031428       27583   0.197058  0.089268\n",
      "2   30-60%  21887       1462  0.066798       20425   0.145920  0.145821\n",
      "3  60-100%  35231       6503  0.184582       28728   0.205238  0.648614\n"
     ]
    }
   ],
   "source": [
    "# Step 2 : Add %Good and %Bad (distribution across the whole dataset)\n",
    "EPS = 1e-6  \n",
    "# total number of \"good\" customers in the whole dataset (target==0)\n",
    "total_goods = (df[\"SeriousDlqin2yrs\"] == 0).sum()\n",
    "\n",
    "# total number of \"bad\" customers in the whole dataset (target==1)\n",
    "total_bads  = (df[\"SeriousDlqin2yrs\"] == 1).sum()\n",
    "\n",
    "# share of ALL goods that fall into each util_bin\n",
    "util_detail[\"dist_good\"] = util_detail[\"good_count\"] / max(total_goods, EPS)\n",
    "\n",
    "# share of ALL bads that fall into each util_bin\n",
    "util_detail[\"dist_bad\"]  = util_detail[\"bad_count\"]  / max(total_bads,  EPS)\n",
    "\n",
    "# quick look\n",
    "print(util_detail)"
   ]
  },
  {
   "cell_type": "markdown",
   "id": "7716117a-8bc1-4d0f-ae7e-84016a445406",
   "metadata": {},
   "source": [
    "###### ***We calculate WoE for each utilisation group and replace infinite values with zero to keep the feature stable.***"
   ]
  },
  {
   "cell_type": "code",
   "execution_count": 60,
   "id": "94799f45-0dac-488d-9f43-9e1e941d7bac",
   "metadata": {},
   "outputs": [
    {
     "name": "stdout",
     "output_type": "stream",
     "text": [
      "  util_bin  dist_good  dist_bad       woe\n",
      "0    0-10%   0.451784  0.116298  1.357051\n",
      "1   10-30%   0.197058  0.089268  0.791856\n",
      "2   30-60%   0.145920  0.145821  0.000679\n",
      "3  60-100%   0.205238  0.648614 -1.150666\n"
     ]
    }
   ],
   "source": [
    "# Step 3 : Calculate WoE for util_bin\n",
    "import numpy as np\n",
    "# WoE = ln( dist_good / dist_bad ), with clipping so we never take log(0)\n",
    "util_detail[\"woe\"] = np.log(\n",
    "    util_detail[\"dist_good\"].clip(lower=EPS) /\n",
    "    util_detail[\"dist_bad\"].clip(lower=EPS)\n",
    ")\n",
    "\n",
    "# replace infinities that can appear in extreme edge cases with 0 (neutral evidence)\n",
    "util_detail[\"woe\"] = util_detail[\"woe\"].replace([np.inf, -np.inf], 0.0)\n",
    "\n",
    "print(util_detail[[\"util_bin\",\"dist_good\",\"dist_bad\",\"woe\"]])"
   ]
  },
  {
   "cell_type": "markdown",
   "id": "d5213241-2583-476d-b171-6aaceb2169e5",
   "metadata": {},
   "source": [
    "###### ***We calculate the IV contribution of each utilization group and sum them to measure the predictive power of the variable.***"
   ]
  },
  {
   "cell_type": "code",
   "execution_count": 61,
   "id": "c5dad6e7-1d10-4829-a350-0516b2c6adda",
   "metadata": {},
   "outputs": [
    {
     "name": "stdout",
     "output_type": "stream",
     "text": [
      "  util_bin       woe        iv_bin\n",
      "0    0-10%  1.357051  4.552721e-01\n",
      "1   10-30%  0.791856  8.535428e-02\n",
      "2   30-60%  0.000679  6.731310e-08\n",
      "3  60-100% -1.150666  5.101772e-01\n",
      "Sum(dist_good) ≈ 1.000000,  Sum(dist_bad) ≈ 1.000000\n",
      "Total IV for utilization: 1.050804\n"
     ]
    }
   ],
   "source": [
    "# Step 4:  Compute IV per bin and total IV\n",
    "\n",
    "# 1) IV contribution at the bin level\n",
    "#    Formula: IV_bin = (dist_good - dist_bad) * woe\n",
    "\n",
    "# 1) IV contribution at the bin level\n",
    "#    Formula: IV_bin = (dist_good - dist_bad) * woe\n",
    "util_detail[\"iv_bin\"] = (\n",
    "    (util_detail[\"dist_good\"] - util_detail[\"dist_bad\"]) * util_detail[\"woe\"]\n",
    ")\n",
    "\n",
    "# 2) Total IV for the variable (sum across bins)\n",
    "util_iv_total = util_detail[\"iv_bin\"].sum()\n",
    "\n",
    "# 3) Optional sanity checks (sum of distributions should be ~1.0)\n",
    "sum_good = util_detail[\"dist_good\"].sum()\n",
    "sum_bad  = util_detail[\"dist_bad\"].sum()\n",
    "\n",
    "# 4) Display a compact view + totals\n",
    "print(util_detail[[\"util_bin\", \"woe\", \"iv_bin\"]])\n",
    "print(f\"Sum(dist_good) ≈ {sum_good:.6f},  Sum(dist_bad) ≈ {sum_bad:.6f}\")\n",
    "print(f\"Total IV for utilization: {util_iv_total:.6f}\")"
   ]
  },
  {
   "cell_type": "markdown",
   "id": "03ed0caf-84b6-4ec8-bb10-15dc21258c36",
   "metadata": {},
   "source": [
    "###### ***We map WoE values back to each customer by utilization group and store them as the new variable util_woe.***"
   ]
  },
  {
   "cell_type": "code",
   "execution_count": 62,
   "id": "5391810d-2975-458b-b55c-90f5247ed12e",
   "metadata": {},
   "outputs": [
    {
     "name": "stdout",
     "output_type": "stream",
     "text": [
      "dtype of df['util_woe']: float64\n",
      "number of nulls in df['util_woe'] after fill: 0\n",
      "util_bin labels present in df but missing from util_detail: set()\n",
      "  util_bin  util_woe\n",
      "0  60-100% -1.150666\n",
      "1  60-100% -1.150666\n",
      "2  60-100% -1.150666\n",
      "3   10-30%  0.791856\n",
      "4  60-100% -1.150666\n"
     ]
    }
   ],
   "source": [
    "# Step 5: Create df[\"util_woe\"] by mapping bin → WoE\n",
    "# 1) Build a dictionary that maps each utilisation bin label to its WoE value\n",
    "\n",
    "# We first build a dictionary that maps every utilisation bin label to its WoE value\n",
    "# The keys are the exact labels in util_detail[\"util_bin\"]\n",
    "# The values are the numeric WoE values in util_detail[\"woe\"]\n",
    "util_woe_map = dict(zip(util_detail[\"util_bin\"], util_detail[\"woe\"]))\n",
    "\n",
    "# We now apply the mapping from bin label to WoE on the df column util_bin\n",
    "# The intermediate result may inherit a categorical dtype depending on how util_bin is stored\n",
    "# To avoid categorical fill problems, we convert the result to a plain numeric dtype right away\n",
    "mapped_util_woe = df[\"util_bin\"].map(util_woe_map)\n",
    "\n",
    "# Convert the mapped Series to float so it is no longer categorical\n",
    "# This step ensures that fillna can safely insert the numeric value 0.0\n",
    "mapped_util_woe = pd.to_numeric(mapped_util_woe, errors=\"coerce\")\n",
    "\n",
    "# Now we can safely replace any missing values with 0.0 which represents neutral evidence ln(1) equals 0\n",
    "df[\"util_woe\"] = mapped_util_woe.fillna(0.0)\n",
    "\n",
    "# Quick diagnostics so you can see everything is correct without guessing\n",
    "print(\"dtype of df['util_woe']:\", df[\"util_woe\"].dtype)\n",
    "print(\"number of nulls in df['util_woe'] after fill:\", int(df[\"util_woe\"].isna().sum()))\n",
    "\n",
    "# This check shows if there are any utilization bin labels present in df that were not in util_detail\n",
    "# Such labels would map to NaN and then be set to 0.0 by the fill above\n",
    "bins_in_df = set(df[\"util_bin\"].dropna().unique())\n",
    "bins_in_table = set(util_detail[\"util_bin\"].dropna().unique())\n",
    "missing_in_table = bins_in_df - bins_in_table\n",
    "print(\"util_bin labels present in df but missing from util_detail:\", missing_in_table)\n",
    "\n",
    "# A small preview so you can visually confirm the mapping worked\n",
    "print(df[[\"util_bin\", \"util_woe\"]].head())"
   ]
  },
  {
   "cell_type": "markdown",
   "id": "c040138a-11b3-4d17-832a-9d8d7f250d6c",
   "metadata": {},
   "source": [
    "###### ***We build a detailed summary for each age group showing customer counts, default rate and non-defaults in the correct business order.***"
   ]
  },
  {
   "cell_type": "code",
   "execution_count": 63,
   "id": "4997fa9c-41ea-4113-a4e5-5db74a5e1498",
   "metadata": {},
   "outputs": [
    {
     "name": "stdout",
     "output_type": "stream",
     "text": [
      "  age_bin      n  bad_count  bad_rate  good_count\n",
      "0   18-25   3028        338  0.111625        2690\n",
      "1   26-35  18458       2053  0.111225       16405\n",
      "2   36-45  29819       2628  0.088132       27191\n",
      "3   46-55  36690       2786  0.075933       33904\n",
      "4   56-65  33406       1531  0.045830       31875\n",
      "5     66+  28599        690  0.024127       27909\n"
     ]
    }
   ],
   "source": [
    "# Age bin: \n",
    "# Step 1:\n",
    "\n",
    "# We want to build a summary table for the binned age variable called age_bin\n",
    "# The table should tell us how many customers are in each age bin\n",
    "# How many of those defaulted, what the default rate is, and how many did not default\n",
    "# Our target column is SeriousDlqin2yrs where one means default and zero means non default\n",
    "\n",
    "age_detail = (\n",
    "    # Group the dataset by the column age_bin\n",
    "    # For each bin we look at the target column SeriousDlqin2yrs\n",
    "    \n",
    "    df.groupby(\"age_bin\", observed=False)[\"SeriousDlqin2yrs\"]\n",
    "      .agg(\n",
    "          n=\"count\",        # n is the number of rows in this age bin\n",
    "          bad_count=\"sum\",  # bad_count is the number of defaults, sum of ones in this bin\n",
    "          bad_rate=\"mean\"   # bad_rate is the average of ones and zeros, which equals proportion of defaults\n",
    "      )\n",
    "      # Add another column good_count which is the number of non defaults\n",
    "      # We calculate it as total n minus number of defaults\n",
    "      .assign(good_count=lambda t: t[\"n\"] - t[\"bad_count\"])\n",
    "      # Reset the index so age_bin becomes a normal column instead of the index\n",
    "      .reset_index()\n",
    ")\n",
    "\n",
    "# If the age_bin column was created as a categorical with an order\n",
    "# for example 18–25 then 26–35 then 36–45\n",
    "# then we want our summary table to follow that natural order\n",
    "# We check the dtype of age_bin and if it is categorical we reindex accordingly\n",
    "if isinstance(df[\"age_bin\"].dtype, pd.CategoricalDtype):\n",
    "    cats = list(df[\"age_bin\"].cat.categories)  # this is the defined order of categories\n",
    "    age_detail = (\n",
    "        age_detail.set_index(\"age_bin\")        # temporarily use age_bin as index\n",
    "                  .reindex(cats)               # reorder rows to match the category order\n",
    "                  .reset_index()               # bring age_bin back as a normal column\n",
    "    )\n",
    "\n",
    "# Finally we print the result\n",
    "# The table should show one row per age_bin\n",
    "# with n bad_count bad_rate and good_count\n",
    "# and it should be in the expected order if categories were ordered\n",
    "print(age_detail)"
   ]
  },
  {
   "cell_type": "markdown",
   "id": "70538224-d9e0-40b7-9fa2-15b98268284f",
   "metadata": {},
   "source": [
    "###### ***We calculate the share of all good and bad customers that fall in each age group and confirm the distributions sum to one.***"
   ]
  },
  {
   "cell_type": "code",
   "execution_count": 64,
   "id": "e5e26946-a0e5-4646-978f-e551c61ae3a2",
   "metadata": {},
   "outputs": [
    {
     "name": "stdout",
     "output_type": "stream",
     "text": [
      "  age_bin      n  good_count  bad_count  dist_good  dist_bad\n",
      "0   18-25   3028        2690        338   0.019218  0.033712\n",
      "1   26-35  18458       16405       2053   0.117200  0.204768\n",
      "2   36-45  29819       27191       2628   0.194258  0.262118\n",
      "3   46-55  36690       33904       2786   0.242216  0.277878\n",
      "4   56-65  33406       31875       1531   0.227721  0.152703\n",
      "5     66+  28599       27909        690   0.199387  0.068821\n",
      "Sum of dist_good across bins ≈ 1.000000\n",
      "Sum of dist_bad  across bins ≈ 1.000000\n"
     ]
    }
   ],
   "source": [
    "# Step 2:\n",
    "\n",
    "# We are going to add two new columns to age_detail\n",
    "# dist_good tells us what fraction of all non default customers fall into each age bin\n",
    "# dist_bad tells us what fraction of all default customers fall into each age bin\n",
    "# These are not within bin rates. They are shares across the whole dataset\n",
    "\n",
    "# Define a tiny safety constant if it does not exist yet\n",
    "# This prevents any division by zero in very sparse data situations\n",
    "try:\n",
    "    EPS\n",
    "except NameError:\n",
    "    EPS = 1e-6  # this equals 0.000001\n",
    "\n",
    "# Compute totals across the entire dataset once\n",
    "# SeriousDlqin2yrs equals one for default and zero for non default\n",
    "total_goods = (df[\"SeriousDlqin2yrs\"] == 0).sum()  # total number of non default rows in the dataset\n",
    "total_bads  = (df[\"SeriousDlqin2yrs\"] == 1).sum()  # total number of default rows in the dataset\n",
    "\n",
    "# Create the distribution columns\n",
    "# We divide each bin good_count by the total number of goods to get the share of goods in that bin\n",
    "# We divide each bin bad_count by the total number of bads to get the share of bads in that bin\n",
    "# The max with EPS ensures the denominator is never zero\n",
    "age_detail[\"dist_good\"] = age_detail[\"good_count\"] / max(total_goods, EPS)\n",
    "age_detail[\"dist_bad\"]  = age_detail[\"bad_count\"]  / max(total_bads,  EPS)\n",
    "\n",
    "# Optional ordering to keep the natural order of bins if age_bin is an ordered categorical\n",
    "# We use the modern check to avoid deprecation warnings\n",
    "if isinstance(df[\"age_bin\"].dtype, pd.CategoricalDtype):\n",
    "    cats = list(df[\"age_bin\"].cat.categories)  # this is the intended order you defined when you created the bins\n",
    "    age_detail = (\n",
    "        age_detail.set_index(\"age_bin\")\n",
    "                  .reindex(cats)\n",
    "                  .reset_index()\n",
    "    )\n",
    "\n",
    "# Sanity checks so you can trust the table\n",
    "# The sums of dist_good and dist_bad across all bins should be about one\n",
    "sum_dist_good = age_detail[\"dist_good\"].sum()\n",
    "sum_dist_bad  = age_detail[\"dist_bad\"].sum()\n",
    "\n",
    "# Display a compact view that includes the new columns\n",
    "print(age_detail[[\"age_bin\", \"n\", \"good_count\", \"bad_count\", \"dist_good\", \"dist_bad\"]])\n",
    "print(f\"Sum of dist_good across bins ≈ {sum_dist_good:.6f}\")\n",
    "print(f\"Sum of dist_bad  across bins ≈ {sum_dist_bad:.6f}\")"
   ]
  },
  {
   "cell_type": "markdown",
   "id": "eebbbebf-6b97-4434-83d4-b9edc3afd5db",
   "metadata": {},
   "source": [
    "###### ***We compute Weight of Evidence for each age group so positive values indicate safer bins and negative values indicate riskier bins.***"
   ]
  },
  {
   "cell_type": "code",
   "execution_count": 65,
   "id": "eb72b44c-d663-4afb-ae66-b41752b78b7f",
   "metadata": {},
   "outputs": [
    {
     "name": "stdout",
     "output_type": "stream",
     "text": [
      "  age_bin  dist_good  dist_bad       woe\n",
      "0   18-25   0.019218  0.033712 -0.562024\n",
      "1   26-35   0.117200  0.204768 -0.557991\n",
      "2   36-45   0.194258  0.262118 -0.299612\n",
      "3   46-55   0.242216  0.277878 -0.137349\n",
      "4   56-65   0.227721  0.152703  0.399626\n",
      "5     66+   0.199387  0.068821  1.063738\n"
     ]
    }
   ],
   "source": [
    "# Step 3:\n",
    "\n",
    "# We will create a new column called woe in age_detail\n",
    "# WoE stands for Weight of Evidence\n",
    "# The formula is the natural log of the ratio of the good distribution to the bad distribution\n",
    "# WoE equals ln of dist_good divided by dist_bad\n",
    "# We clip the inputs to a tiny positive value so we never take the log of zero\n",
    "\n",
    "# Define a tiny safety constant if it is not already defined\n",
    "try:\n",
    "    EPS\n",
    "except NameError:\n",
    "    EPS = 1e-6  # equals 0.000001\n",
    "\n",
    "# Compute WoE for each age bin\n",
    "age_detail[\"woe\"] = np.log(\n",
    "    age_detail[\"dist_good\"].clip(lower=EPS) /\n",
    "    age_detail[\"dist_bad\"].clip(lower=EPS)\n",
    ")\n",
    "\n",
    "# Replace any positive or negative infinity with zero which represents neutral evidence\n",
    "# We assign the result back to the column to avoid future warnings about inplace on a view\n",
    "age_detail[\"woe\"] = age_detail[\"woe\"].replace([np.inf, -np.inf], 0.0)\n",
    "\n",
    "# Optional ordering to keep the natural order of bins if age_bin is categorical\n",
    "if isinstance(df[\"age_bin\"].dtype, pd.CategoricalDtype):\n",
    "    cats = list(df[\"age_bin\"].cat.categories)\n",
    "    age_detail = (\n",
    "        age_detail.set_index(\"age_bin\")\n",
    "                  .reindex(cats)\n",
    "                  .reset_index()\n",
    "    )\n",
    "\n",
    "# Display a compact view so you can review the evidence direction and strength\n",
    "# Positive WoE means the bin has a larger share of goods than bads and is safer\n",
    "# Negative WoE means the bin has a larger share of bads than goods and is riskier\n",
    "print(age_detail[[\"age_bin\", \"dist_good\", \"dist_bad\", \"woe\"]])"
   ]
  },
  {
   "cell_type": "markdown",
   "id": "e63d39c1-ac3d-425a-b5d4-f8dc0489e6b6",
   "metadata": {},
   "source": [
    "###### ***We calculate Information Value per age group and in total to measure how predictive age is for default risk.***"
   ]
  },
  {
   "cell_type": "code",
   "execution_count": 66,
   "id": "3322b9cc-0a17-44bc-b9e2-04434aba4723",
   "metadata": {},
   "outputs": [
    {
     "name": "stdout",
     "output_type": "stream",
     "text": [
      "  age_bin       woe    iv_bin\n",
      "0   18-25 -0.562024  0.008146\n",
      "1   26-35 -0.557991  0.048862\n",
      "2   36-45 -0.299612  0.020332\n",
      "3   46-55 -0.137349  0.004898\n",
      "4   56-65  0.399626  0.029979\n",
      "5     66+  1.063738  0.138888\n",
      "Total IV for age_bin: 0.251105\n"
     ]
    }
   ],
   "source": [
    "# Step 4:\n",
    "# We now compute Information Value (IV) for each age bin and the total IV for the variable\n",
    "# IV tells us how strong this variable is for separating good and bad customers\n",
    "# The formula for IV at the bin level is (dist_good - dist_bad) multiplied by WoE\n",
    "\n",
    "# Calculate IV contribution per bin\n",
    "age_detail[\"iv_bin\"] = (\n",
    "    (age_detail[\"dist_good\"] - age_detail[\"dist_bad\"]) * age_detail[\"woe\"]\n",
    ")\n",
    "\n",
    "# Calculate total IV for the whole age variable by summing across bins\n",
    "age_iv_total = age_detail[\"iv_bin\"].sum()\n",
    "\n",
    "# Optional ordering to keep natural bin order if age_bin is categorical\n",
    "if isinstance(df[\"age_bin\"].dtype, pd.CategoricalDtype):\n",
    "    cats = list(df[\"age_bin\"].cat.categories)\n",
    "    age_detail = (\n",
    "        age_detail.set_index(\"age_bin\")\n",
    "                  .reindex(cats)\n",
    "                  .reset_index()\n",
    "    )\n",
    "\n",
    "# Display the result\n",
    "# We show each bin with its WoE and IV contribution\n",
    "# Finally we print the total IV so you can assess the overall predictive strength of age\n",
    "print(age_detail[[\"age_bin\", \"woe\", \"iv_bin\"]])\n",
    "print(f\"Total IV for age_bin: {age_iv_total:.6f}\")"
   ]
  },
  {
   "cell_type": "markdown",
   "id": "a6e61822-5810-4412-9eba-dced233ebb36",
   "metadata": {},
   "source": [
    "###### ***We map age group WoE back to each customer and verify that the new feature age_woe is numeric and complete.***"
   ]
  },
  {
   "cell_type": "code",
   "execution_count": 67,
   "id": "7467fdb1-696b-447a-8de0-767405a37b62",
   "metadata": {},
   "outputs": [
    {
     "name": "stdout",
     "output_type": "stream",
     "text": [
      "dtype of df['age_woe']: float64\n",
      "number of nulls in df['age_woe']: 0\n",
      "  age_bin   age_woe\n",
      "0   36-45 -0.299612\n",
      "1   36-45 -0.299612\n",
      "2   36-45 -0.299612\n",
      "3   26-35 -0.557991\n",
      "4   46-55 -0.137349\n"
     ]
    }
   ],
   "source": [
    "# Step 5:\n",
    "\n",
    "# We will create a new column in df called age_woe\n",
    "# This column will contain the Weight of Evidence value for each row based on its age_bin\n",
    "\n",
    "# Build a dictionary that maps each age_bin label to its WoE value\n",
    "# Keys are the bin labels such as \"18-25\" or \"26-35\"\n",
    "# Values are the numeric WoE values we calculated in U3\n",
    "age_woe_map = dict(zip(age_detail[\"age_bin\"], age_detail[\"woe\"]))\n",
    "\n",
    "# Apply the mapping to the df column age_bin\n",
    "# For each row this looks up the age_bin label and returns the WoE number\n",
    "mapped_age_woe = df[\"age_bin\"].map(age_woe_map)\n",
    "\n",
    "# Convert to float to avoid issues with categorical dtype\n",
    "mapped_age_woe = pd.to_numeric(mapped_age_woe, errors=\"coerce\")\n",
    "\n",
    "# Fill any missing values with 0.0\n",
    "# This represents neutral evidence (log(1) = 0)\n",
    "df[\"age_woe\"] = mapped_age_woe.fillna(0.0)\n",
    "\n",
    "# Quick checks so you can trust the result\n",
    "print(\"dtype of df['age_woe']:\", df[\"age_woe\"].dtype)         # should be float\n",
    "print(\"number of nulls in df['age_woe']:\", df[\"age_woe\"].isna().sum())  # should be 0\n",
    "print(df[[\"age_bin\", \"age_woe\"]].head())  # small preview of the mapping"
   ]
  },
  {
   "cell_type": "markdown",
   "id": "5fa173d2-a00e-4615-9010-67ff4e4ec807",
   "metadata": {},
   "source": [
    "###### ***We build a detailed summary for each income group showing customer counts, defaults default rate and non defaults in the defined bin order.***"
   ]
  },
  {
   "cell_type": "code",
   "execution_count": 68,
   "id": "681442ea-fb95-499d-b17e-089ca0e164d6",
   "metadata": {},
   "outputs": [
    {
     "name": "stdout",
     "output_type": "stream",
     "text": [
      "            income_bin      n  bad_count  bad_rate  good_count\n",
      "0     (-0.001, 3400.0]  30289       2789  0.092080       27500\n",
      "1     (3400.0, 5400.0]  59757       4031  0.067457       55726\n",
      "2     (5400.0, 8250.0]  29961       1819  0.060712       28142\n",
      "3  (8250.0, 3008750.0]  29993       1387  0.046244       28606\n"
     ]
    }
   ],
   "source": [
    "# Income_bin\n",
    "\n",
    "# Step 1:\n",
    "# We want a summary table for the binned income variable called income_bin\n",
    "# The table should show how many rows are in each bin\n",
    "# How many customers defaulted in that bin and what the default rate is\n",
    "# It should also show how many customers did not default\n",
    "# Our target column is SeriousDlqin2yrs where one means default and zero means non default\n",
    "\n",
    "income_detail = (\n",
    "    # Group the dataset by income_bin so we can compute statistics for each bin\n",
    "    df.groupby(\"income_bin\", observed=False)[\"SeriousDlqin2yrs\"]\n",
    "      .agg(\n",
    "          n=\"count\",        # n is the total number of rows in this income bin\n",
    "          bad_count=\"sum\",  # bad_count is the number of defaults since summing ones counts defaults\n",
    "          bad_rate=\"mean\"   # bad_rate is the average of zeros and ones which equals the default rate\n",
    "      )\n",
    "      # Add a column with the number of non defaults in the bin\n",
    "      # This is the total n minus the number of defaults\n",
    "      .assign(good_count=lambda t: t[\"n\"] - t[\"bad_count\"])\n",
    "      # Reset the index so income_bin becomes a normal column instead of staying in the index\n",
    "      .reset_index()\n",
    ")\n",
    "\n",
    "# If income_bin was created as a categorical with an intended order we keep that order in the table\n",
    "# This makes the summary easier to read and consistent with your bin design\n",
    "if isinstance(df[\"income_bin\"].dtype, pd.CategoricalDtype):\n",
    "    cats = list(df[\"income_bin\"].cat.categories)  # this is the intended order of income bins defined earlier\n",
    "    income_detail = (\n",
    "        income_detail.set_index(\"income_bin\")     # temporarily move income_bin into the index\n",
    "                      .reindex(cats)              # reorder rows according to the category order\n",
    "                      .reset_index()              # bring income_bin back as a normal column\n",
    "    )\n",
    "\n",
    "# Print the finished U1 table for income\n",
    "# It should show income_bin with n bad_count bad_rate and good_count\n",
    "# For every row n should equal good_count plus bad_count\n",
    "print(income_detail)"
   ]
  },
  {
   "cell_type": "markdown",
   "id": "37a4a07c-cb61-42f3-8eac-ea7c62fb3e6a",
   "metadata": {},
   "source": [
    "###### ***We calculate the share of all good and bad customers that fall in each income group and confirm the distributions sum to one.***"
   ]
  },
  {
   "cell_type": "code",
   "execution_count": 69,
   "id": "337d67db-0df2-4a90-b02f-a0793e74666d",
   "metadata": {},
   "outputs": [
    {
     "name": "stdout",
     "output_type": "stream",
     "text": [
      "            income_bin      n  good_count  bad_count  dist_good  dist_bad\n",
      "0     (-0.001, 3400.0]  30289       27500       2789   0.196465  0.278177\n",
      "1     (3400.0, 5400.0]  59757       55726       4031   0.398117  0.402055\n",
      "2     (5400.0, 8250.0]  29961       28142       1819   0.201052  0.181428\n",
      "3  (8250.0, 3008750.0]  29993       28606       1387   0.204367  0.138340\n",
      "Sum of dist_good across bins ≈ 1.000000\n",
      "Sum of dist_bad  across bins ≈ 1.000000\n"
     ]
    }
   ],
   "source": [
    "# Step 2:\n",
    "# In this, we add two columns to income_detail\n",
    "# dist_good tells us what fraction of all non default customers fall into each income bin\n",
    "# dist_bad tells us what fraction of all default customers fall into each income bin\n",
    "# These are not within bin rates but proportions across the entire dataset\n",
    "\n",
    "# Define a small constant EPS if it does not already exist\n",
    "# This prevents any division by zero in case a dataset has no goods or no bads\n",
    "try:\n",
    "    EPS\n",
    "except NameError:\n",
    "    EPS = 1e-6  # equals 0.000001\n",
    "\n",
    "# Compute the total number of goods and bads in the whole dataset\n",
    "# SeriousDlqin2yrs is the target where one means default and zero means non default\n",
    "total_goods = (df[\"SeriousDlqin2yrs\"] == 0).sum()  # number of non defaults in dataset\n",
    "total_bads  = (df[\"SeriousDlqin2yrs\"] == 1).sum()  # number of defaults in dataset\n",
    "\n",
    "# Add the distribution columns\n",
    "# Divide good_count in each bin by total_goods to get the share of all goods in that bin\n",
    "# Divide bad_count in each bin by total_bads to get the share of all bads in that bin\n",
    "# Use max with EPS to protect against division by zero\n",
    "income_detail[\"dist_good\"] = income_detail[\"good_count\"] / max(total_goods, EPS)\n",
    "income_detail[\"dist_bad\"]  = income_detail[\"bad_count\"]  / max(total_bads,  EPS)\n",
    "\n",
    "# If income_bin is a categorical with a defined order, reindex to keep that order\n",
    "if isinstance(df[\"income_bin\"].dtype, pd.CategoricalDtype):\n",
    "    cats = list(df[\"income_bin\"].cat.categories)\n",
    "    income_detail = (\n",
    "        income_detail.set_index(\"income_bin\")\n",
    "                     .reindex(cats)\n",
    "                     .reset_index()\n",
    "    )\n",
    "\n",
    "# Check sums to make sure distributions are valid\n",
    "sum_dist_good = income_detail[\"dist_good\"].sum()\n",
    "sum_dist_bad  = income_detail[\"dist_bad\"].sum()\n",
    "\n",
    "# Print the updated table with the new columns\n",
    "print(income_detail[[\"income_bin\", \"n\", \"good_count\", \"bad_count\", \"dist_good\", \"dist_bad\"]])\n",
    "print(f\"Sum of dist_good across bins ≈ {sum_dist_good:.6f}\")\n",
    "print(f\"Sum of dist_bad  across bins ≈ {sum_dist_bad:.6f}\")\n"
   ]
  },
  {
   "cell_type": "markdown",
   "id": "2d308295-aa18-4b34-afbb-44d5438a7b21",
   "metadata": {},
   "source": [
    "###### ***We calculate Weight of Evidence for each income group so positive values indicate safer groups and negative values indicate riskier groups.***"
   ]
  },
  {
   "cell_type": "code",
   "execution_count": 70,
   "id": "af7c99c0-1636-4a19-84df-f506243460ca",
   "metadata": {},
   "outputs": [
    {
     "name": "stdout",
     "output_type": "stream",
     "text": [
      "            income_bin  dist_good  dist_bad       woe\n",
      "0     (-0.001, 3400.0]   0.196465  0.278177 -0.347772\n",
      "1     (3400.0, 5400.0]   0.398117  0.402055 -0.009843\n",
      "2     (5400.0, 8250.0]   0.201052  0.181428  0.102701\n",
      "3  (8250.0, 3008750.0]   0.204367  0.138340  0.390198\n"
     ]
    }
   ],
   "source": [
    "# Step 3 : Weight of Evidence (WoE).\n",
    "# In this, we calculate Weight of Evidence (WoE) for each income bin\n",
    "# The formula is WoE = ln(dist_good / dist_bad)\n",
    "# ln means the natural logarithm with base e which is about 2.718\n",
    "# Positive WoE means the bin has a higher share of goods than bads and is safer\n",
    "# Negative WoE means the bin has a higher share of bads than goods and is riskier\n",
    "# A value near zero means the bin is neutral\n",
    "\n",
    "# Make sure the safety constant EPS exists\n",
    "try:\n",
    "    EPS\n",
    "except NameError:\n",
    "    EPS = 1e-6\n",
    "\n",
    "# Compute WoE using the formula\n",
    "# We clip the ratios at EPS to prevent taking log of zero\n",
    "income_detail[\"woe\"] = np.log(\n",
    "    income_detail[\"dist_good\"].clip(lower=EPS) /\n",
    "    income_detail[\"dist_bad\"].clip(lower=EPS)\n",
    ")\n",
    "\n",
    "# Replace infinite results with zero which represents neutral evidence\n",
    "income_detail[\"woe\"] = income_detail[\"woe\"].replace([np.inf, -np.inf], 0.0)\n",
    "\n",
    "# If income_bin is categorical, reorder to preserve the natural sequence of bins\n",
    "if isinstance(df[\"income_bin\"].dtype, pd.CategoricalDtype):\n",
    "    cats = list(df[\"income_bin\"].cat.categories)\n",
    "    income_detail = (\n",
    "        income_detail.set_index(\"income_bin\")\n",
    "                     .reindex(cats)\n",
    "                     .reset_index()\n",
    "    )\n",
    "\n",
    "# Show the results\n",
    "# We display the distributions and their corresponding WoE values\n",
    "print(income_detail[[\"income_bin\", \"dist_good\", \"dist_bad\", \"woe\"]])"
   ]
  },
  {
   "cell_type": "markdown",
   "id": "309150ee-327b-4f72-a6b6-469a3ef6a7a1",
   "metadata": {},
   "source": [
    "###### ***We compute the Information Value per income group and in total to assess how predictive income is for default risk.***"
   ]
  },
  {
   "cell_type": "code",
   "execution_count": 71,
   "id": "47b45c7c-ade6-4281-b676-c4f5ec08b6e8",
   "metadata": {},
   "outputs": [
    {
     "name": "stdout",
     "output_type": "stream",
     "text": [
      "            income_bin       woe    iv_bin\n",
      "0     (-0.001, 3400.0] -0.347772  0.028417\n",
      "1     (3400.0, 5400.0] -0.009843  0.000039\n",
      "2     (5400.0, 8250.0]  0.102701  0.002015\n",
      "3  (8250.0, 3008750.0]  0.390198  0.025763\n",
      "Total IV for income_bin: 0.056234\n"
     ]
    }
   ],
   "source": [
    "# Step 4: Information Value (IV).\n",
    "# In here, calculate the Information Value (IV) for each income bin\n",
    "# IV tells us how strong this variable is for separating good and bad customers\n",
    "# The formula for IV at the bin level is (dist_good - dist_bad) multiplied by WoE\n",
    "# We then sum across all bins to get the total IV for income_bin\n",
    "\n",
    "# Calculate the IV contribution for each bin\n",
    "income_detail[\"iv_bin\"] = (\n",
    "    (income_detail[\"dist_good\"] - income_detail[\"dist_bad\"]) * income_detail[\"woe\"]\n",
    ")\n",
    "\n",
    "# Calculate the total IV for income by summing over all bins\n",
    "income_iv_total = income_detail[\"iv_bin\"].sum()\n",
    "\n",
    "# If income_bin is a categorical with a defined order we keep that order in the output\n",
    "if isinstance(df[\"income_bin\"].dtype, pd.CategoricalDtype):\n",
    "    cats = list(df[\"income_bin\"].cat.categories)\n",
    "    income_detail = (\n",
    "        income_detail.set_index(\"income_bin\")\n",
    "                     .reindex(cats)\n",
    "                     .reset_index()\n",
    "    )\n",
    "\n",
    "# Show the results so we can interpret them\n",
    "# We display each bin with its WoE and its IV contribution\n",
    "# Finally we print the total IV for income_bin\n",
    "print(income_detail[[\"income_bin\", \"woe\", \"iv_bin\"]])\n",
    "print(f\"Total IV for income_bin: {income_iv_total:.6f}\")"
   ]
  },
  {
   "cell_type": "markdown",
   "id": "4f0c1a6c-0d92-41b8-8860-ef840f69526f",
   "metadata": {},
   "source": [
    "###### ***We map income group WoE back to each customer and verify that the new feature income_woe is numeric and complete.***"
   ]
  },
  {
   "cell_type": "code",
   "execution_count": 72,
   "id": "78d1f4ed-1237-4e17-a55f-5cfc16e0df3b",
   "metadata": {},
   "outputs": [
    {
     "name": "stdout",
     "output_type": "stream",
     "text": [
      "dtype of df['income_woe']: float64\n",
      "number of nulls in df['income_woe']: 0\n",
      "            income_bin  income_woe\n",
      "0  (8250.0, 3008750.0]    0.390198\n",
      "1     (-0.001, 3400.0]   -0.347772\n",
      "2     (-0.001, 3400.0]   -0.347772\n",
      "3     (-0.001, 3400.0]   -0.347772\n",
      "4  (8250.0, 3008750.0]    0.390198\n"
     ]
    }
   ],
   "source": [
    "# Step 5: map WoE back into the dataset.\n",
    "# We will create a new column in df called income_woe\n",
    "# This column will hold the Weight of Evidence value for each row based on its income_bin\n",
    "\n",
    "# Build a dictionary that maps each income_bin label to its WoE value\n",
    "# Keys are the bin labels such as (-0.001, 3400.0] or (8250.0, 3008750.0]\n",
    "# Values are the numeric WoE values we calculated in U3\n",
    "income_woe_map = dict(zip(income_detail[\"income_bin\"], income_detail[\"woe\"]))\n",
    "\n",
    "# Apply this mapping to the df column income_bin\n",
    "# For each row we look up the WoE that corresponds to its income_bin\n",
    "mapped_income_woe = df[\"income_bin\"].map(income_woe_map)\n",
    "\n",
    "# Convert to float to avoid issues if the series is categorical\n",
    "mapped_income_woe = pd.to_numeric(mapped_income_woe, errors=\"coerce\")\n",
    "\n",
    "# Fill any missing values with 0.0 which represents neutral evidence (log(1) = 0)\n",
    "df[\"income_woe\"] = mapped_income_woe.fillna(0.0)\n",
    "\n",
    "# Quick checks so we can trust the result\n",
    "print(\"dtype of df['income_woe']:\", df[\"income_woe\"].dtype)           # should be float\n",
    "print(\"number of nulls in df['income_woe']:\", df[\"income_woe\"].isna().sum())  # should be 0\n",
    "print(df[[\"income_bin\", \"income_woe\"]].head())  # preview of mapping"
   ]
  },
  {
   "cell_type": "markdown",
   "id": "81e6c354-ce6b-46b7-8013-7526af5dbc6a",
   "metadata": {},
   "source": [
    "##### **Stage 3 Summary**\n",
    "\n",
    "At the end of this stage:\n",
    "- Missing MonthlyIncome values were filled with the median  \n",
    "- Missing dependents were set to zero, and extreme household sizes were capped at six  \n",
    "- Unrealistic ages below eighteen were corrected, and utilization was capped at one hundred percent  \n",
    "- Extreme delinquency counts were capped at ten for each late-payment category  \n",
    "- Age, income, and utilization were binned into interpretable groups  \n",
    "- For each binned variable we calculated WoE and IV to measure predictive power  \n",
    "- WoE values were mapped back to the dataset, creating the model-ready features `age_woe`, `income_woe`, and `util_woe`\n",
    "\n",
    "The dataset is now clean, consistent, and fully transformed into features suitable for building a scorecard model."
   ]
  },
  {
   "cell_type": "markdown",
   "id": "a812ede8-db86-44ab-b232-07d0a37cc398",
   "metadata": {},
   "source": [
    "## Stage 4: Build Scorecard Model\n",
    "\n",
    "In this stage we build the actual credit risk scorecard model.  \n",
    "We use logistic regression on the WoE-transformed features to predict the probability of default.  \n",
    "Logistic regression is widely used in credit risk because it provides both a probability of default and coefficients that can be converted into an interpretable scorecard.\n",
    "\n",
    "Steps in this stage:\n",
    "- Train and test a logistic regression model on WoE features  \n",
    "- Evaluate performance using AUC, ROC, and Precision-Recall curves  \n",
    "- Tune probability cutoffs and compare trade-offs between recall, precision, and F1  \n",
    "- Convert logistic regression coefficients into scorecard points  \n",
    "- Compute customer-level credit scores and plot their distribution  "
   ]
  },
  {
   "cell_type": "markdown",
   "id": "d1f89eeb-2afc-4741-aff8-a7641ef72a5e",
   "metadata": {},
   "source": [
    "###### ***We train a logistic regression on WoE features hold out a test set score default probabilities report AUC choose a cutoff to create class predictions print the confusion matrix and a warning free classification report and show coefficients to explain direction and strength.***"
   ]
  },
  {
   "cell_type": "code",
   "execution_count": 73,
   "id": "f168a825-dafd-4ee2-8bc7-27d38c3d0912",
   "metadata": {},
   "outputs": [
    {
     "name": "stdout",
     "output_type": "stream",
     "text": [
      "AUC on test set: 0.783\n",
      "Cutoff used for class prediction: 0.50\n",
      "\n",
      "Confusion Matrix:\n",
      "[[41992     0]\n",
      " [ 3008     0]]\n",
      "\n",
      "Classification Report without warnings:\n",
      "              precision    recall  f1-score   support\n",
      "\n",
      "           0       0.93      1.00      0.97     41992\n",
      "           1       0.00      0.00      0.00      3008\n",
      "\n",
      "    accuracy                           0.93     45000\n",
      "   macro avg       0.47      0.50      0.48     45000\n",
      "weighted avg       0.87      0.93      0.90     45000\n",
      "\n",
      "\n",
      "Model Coefficients:\n",
      "      feature  coefficient\n",
      "1     age_woe    -0.458537\n",
      "2  income_woe    -0.485656\n",
      "0    util_woe    -0.937697\n"
     ]
    }
   ],
   "source": [
    "from sklearn.model_selection import train_test_split\n",
    "from sklearn.linear_model import LogisticRegression\n",
    "from sklearn.metrics import roc_auc_score, confusion_matrix, classification_report\n",
    "\n",
    "\n",
    "# Our goal is to train a logistic regression model on the WoE features\n",
    "# We will report AUC which is threshold free and very useful for credit risk\n",
    "# We will also print a confusion matrix and a classification report at a chosen cutoff\n",
    "# We will silence the UndefinedMetricWarning by telling sklearn what to do when a class has no predicted samples\n",
    "\n",
    "# Step 1\n",
    "# We define our features and target\n",
    "# The three features are the WoE transformed variables we created earlier\n",
    "# The target SeriousDlqin2yrs has value one for default and zero for non default\n",
    "woe_features = [\"util_woe\", \"age_woe\", \"income_woe\"]\n",
    "X = df[woe_features].copy()\n",
    "y = df[\"SeriousDlqin2yrs\"].astype(int)\n",
    "\n",
    "# Step 2\n",
    "# We split the data into train and test sets\n",
    "# We keep thirty percent for testing\n",
    "# We use stratify to keep the default rate similar in both train and test sets\n",
    "X_train, X_test, y_train, y_test = train_test_split(\n",
    "    X, y, test_size=0.3, random_state=42, stratify=y\n",
    ")\n",
    "\n",
    "# Step 3\n",
    "# We fit a logistic regression model\n",
    "# We set max_iter to a higher value to ensure convergence\n",
    "clf = LogisticRegression(max_iter=1000, solver=\"lbfgs\")\n",
    "clf.fit(X_train, y_train)\n",
    "\n",
    "# Step 4\n",
    "# We generate predicted probabilities of default on the test set\n",
    "# predict_proba returns two columns and the second column corresponds to class one which is default\n",
    "y_pred_proba = clf.predict_proba(X_test)[:, 1]\n",
    "\n",
    "# Step 5\n",
    "# We compute AUC which measures how well the model ranks bads ahead of goods\n",
    "# AUC does not depend on any probability cutoff and is the primary metric in scorecard work\n",
    "auc = roc_auc_score(y_test, y_pred_proba)\n",
    "\n",
    "# Step 6\n",
    "# We choose a probability cutoff to turn probabilities into class labels\n",
    "# A cutoff of zero point five is the standard default but may be too conservative for imbalanced data\n",
    "# You can experiment with a lower cutoff such as zero point two if recall for defaults is important\n",
    "cutoff = 0.50\n",
    "y_pred_class = (y_pred_proba >= cutoff).astype(int)\n",
    "\n",
    "# Step 7\n",
    "# We compute a confusion matrix which shows counts of true negatives false positives false negatives and true positives\n",
    "cm = confusion_matrix(y_test, y_pred_class)\n",
    "\n",
    "# Step 8\n",
    "# We print a classification report without warnings by using zero_division\n",
    "# When a class has no predicted samples precision for that class is undefined\n",
    "# By setting zero_division to zero we tell sklearn to print zero for that precision instead of warning\n",
    "report = classification_report(y_test, y_pred_class, zero_division=0)\n",
    "\n",
    "# Step 9\n",
    "# We look at model coefficients to understand direction and relative strength\n",
    "# A positive coefficient means that increasing the feature increases the log odds of default\n",
    "# A negative coefficient means that increasing the feature decreases the log odds of default\n",
    "coef_table = pd.DataFrame({\n",
    "    \"feature\": woe_features,\n",
    "    \"coefficient\": clf.coef_[0]\n",
    "}).sort_values(\"coefficient\", ascending=False)\n",
    "\n",
    "# Step 10\n",
    "# We display all results together for easy reading\n",
    "print(f\"AUC on test set: {auc:.3f}\")\n",
    "print(f\"Cutoff used for class prediction: {cutoff:.2f}\")\n",
    "print(\"\\nConfusion Matrix:\")\n",
    "print(cm)\n",
    "print(\"\\nClassification Report without warnings:\")\n",
    "print(report)\n",
    "print(\"\\nModel Coefficients:\")\n",
    "print(coef_table)"
   ]
  },
  {
   "cell_type": "markdown",
   "id": "2e935019-b537-4d7c-8e4f-86937a9837b7",
   "metadata": {},
   "source": [
    "###### ***We plot the ROC curve to show how well the model separates good and bad customers across all cutoffs and display the AUC as the main scorecard metric.***"
   ]
  },
  {
   "cell_type": "code",
   "execution_count": 74,
   "id": "b8d6687b-aee6-4b47-8bd8-5dc446fddf59",
   "metadata": {},
   "outputs": [
    {
     "data": {
      "image/png": "[encoded data removed]",
      "text/plain": [
       "<Figure size 600x600 with 1 Axes>"
      ]
     },
     "metadata": {},
     "output_type": "display_data"
    }
   ],
   "source": [
    "import matplotlib.pyplot as plt\n",
    "from sklearn.metrics import roc_curve, auc\n",
    "# ROC Curve\n",
    "# We use roc_curve to compute the false positive rate (FPR) and true positive rate (TPR) at many cutoffs\n",
    "# fpr is on the x axis, tpr is on the y axis\n",
    "# roc_auc is the numeric summary area under the curve, same as we already computed with roc_auc_score\n",
    "\n",
    "fpr, tpr, thresholds = roc_curve(y_test, y_pred_proba)\n",
    "roc_auc = auc(fpr, tpr)\n",
    "\n",
    "plt.figure(figsize=(6,6))\n",
    "plt.plot(fpr, tpr, color=\"blue\", lw=2, label=f\"ROC curve (AUC = {roc_auc:.3f})\")\n",
    "plt.plot([0,1], [0,1], color=\"gray\", linestyle=\"--\", label=\"Random guessing\")\n",
    "plt.xlabel(\"False Positive Rate (FPR)\")\n",
    "plt.ylabel(\"True Positive Rate (Recall)\")\n",
    "plt.title(\"Receiver Operating Characteristic (ROC)\")\n",
    "plt.legend(loc=\"lower right\")\n",
    "plt.grid(True)\n",
    "plt.show()"
   ]
  },
  {
   "cell_type": "markdown",
   "id": "270ff488-1f2f-4829-b2ec-e13575660c76",
   "metadata": {},
   "source": [
    "###### ***We plot the Precision Recall curve to show how well the model identifies defaults in imbalanced data and report the average precision as a summary measure.***"
   ]
  },
  {
   "cell_type": "code",
   "execution_count": 75,
   "id": "b30cf347-67b5-4c7a-8503-4e165e523e43",
   "metadata": {},
   "outputs": [
    {
     "data": {
      "image/png": "[encoded data removed]",
      "text/plain": [
       "<Figure size 600x600 with 1 Axes>"
      ]
     },
     "metadata": {},
     "output_type": "display_data"
    }
   ],
   "source": [
    "from sklearn.metrics import precision_recall_curve, average_precision_score\n",
    "\n",
    "# Precision-Recall Curve\n",
    "# precision tells us what fraction of predicted defaults are actually defaults\n",
    "# recall tells us what fraction of actual defaults we managed to catch\n",
    "# This curve is especially helpful in imbalanced data like credit scoring\n",
    "\n",
    "precision, recall, thresholds = precision_recall_curve(y_test, y_pred_proba)\n",
    "avg_precision = average_precision_score(y_test, y_pred_proba)\n",
    "\n",
    "plt.figure(figsize=(6,6))\n",
    "plt.plot(recall, precision, color=\"green\", lw=2,\n",
    "         label=f\"PR curve (AP = {avg_precision:.3f})\")\n",
    "plt.xlabel(\"Recall\")\n",
    "plt.ylabel(\"Precision\")\n",
    "plt.title(\"Precision-Recall Curve\")\n",
    "plt.legend(loc=\"upper right\")\n",
    "plt.grid(True)\n",
    "plt.show()"
   ]
  },
  {
   "cell_type": "markdown",
   "id": "54dda3b0-d94f-4390-bae6-3e2004a98225",
   "metadata": {},
   "source": [
    "###### ***We build a helper to evaluate many probability cutoffs compute metrics like precision recall specificity and F1 across them and store results in a table so we can later choose the best cutoff for business needs.***"
   ]
  },
  {
   "cell_type": "code",
   "execution_count": 76,
   "id": "d4756d82-8e7f-4220-94d6-e51edeb572dc",
   "metadata": {},
   "outputs": [
    {
     "name": "stdout",
     "output_type": "stream",
     "text": [
      "   cutoff    tp     fp     tn   fn  precision    recall  specificity  \\\n",
      "0    0.00  3008  41992      0    0   0.066844  1.000000     0.000000   \n",
      "1    0.01  3008  41992      0    0   0.066844  1.000000     0.000000   \n",
      "2    0.02  2824  28496  13496  184   0.090166  0.938830     0.321395   \n",
      "3    0.03  2577  19296  22696  431   0.117816  0.856715     0.540484   \n",
      "4    0.04  2453  16119  25873  555   0.132081  0.815492     0.616141   \n",
      "\n",
      "        fpr  accuracy        f1  \n",
      "0  1.000000  0.066844  0.125312  \n",
      "1  1.000000  0.066844  0.125312  \n",
      "2  0.678605  0.362667  0.164530  \n",
      "3  0.459516  0.561622  0.207146  \n",
      "4  0.383859  0.629467  0.227340  \n",
      "Default rate in test set prevalence ≈ 0.0668\n"
     ]
    }
   ],
   "source": [
    "#Cutoff tuning helper and metric grid\n",
    "from sklearn.metrics import confusion_matrix\n",
    "\n",
    "# We will evaluate many probability cutoffs between zero and one\n",
    "# For each cutoff we will compute a set of metrics so we can see the trade offs clearly\n",
    "# This helps us choose a threshold that fits our risk appetite\n",
    "\n",
    "def metrics_at_cutoff(y_true, y_prob, cutoff):\n",
    "    \"\"\"\n",
    "    We compute a confusion matrix at the given cutoff\n",
    "    Then we compute precision recall specificity F1 and accuracy\n",
    "    Returns a dictionary with all values for easy collection\n",
    "    \"\"\"\n",
    "    y_pred = (y_prob >= cutoff).astype(int)\n",
    "    tn, fp, fn, tp = confusion_matrix(y_true, y_pred, labels=[0, 1]).ravel()\n",
    "\n",
    "    # Handle zero division gracefully\n",
    "    precision = tp / (tp + fp) if (tp + fp) > 0 else 0.0\n",
    "    recall    = tp / (tp + fn) if (tp + fn) > 0 else 0.0          # same as TPR\n",
    "    specificity = tn / (tn + fp) if (tn + fp) > 0 else 0.0        # TNR\n",
    "    accuracy  = (tp + tn) / max(len(y_true), 1)\n",
    "    f1        = (2 * precision * recall) / (precision + recall) if (precision + recall) > 0 else 0.0\n",
    "    fpr       = 1.0 - specificity                                  # false positive rate\n",
    "\n",
    "    return {\n",
    "        \"cutoff\": cutoff,\n",
    "        \"tp\": tp, \"fp\": fp, \"tn\": tn, \"fn\": fn,\n",
    "        \"precision\": precision,\n",
    "        \"recall\": recall,\n",
    "        \"specificity\": specificity,\n",
    "        \"fpr\": fpr,\n",
    "        \"accuracy\": accuracy,\n",
    "        \"f1\": f1\n",
    "    }\n",
    "\n",
    "# We build a grid of cutoffs from zero to one\n",
    "# Step size of 0.01 gives us 101 points which is usually enough resolution\n",
    "cutoffs = np.linspace(0.0, 1.0, 101)\n",
    "\n",
    "# We compute all metrics for all cutoffs and collect them in a DataFrame\n",
    "rows = [metrics_at_cutoff(y_test, y_pred_proba, c) for c in cutoffs]\n",
    "cutoff_df = pd.DataFrame(rows)\n",
    "\n",
    "# For convenience we also compute the prevalence which is the default rate in y_test\n",
    "prevalence = y_test.mean()\n",
    "\n",
    "# We show the first few rows so readers can see the structure\n",
    "print(cutoff_df.head())\n",
    "print(f\"Default rate in test set prevalence ≈ {prevalence:.4f}\")"
   ]
  },
  {
   "cell_type": "markdown",
   "id": "e1fdae92-ea2c-4d0a-b635-7fc18ccfa298",
   "metadata": {},
   "source": [
    "###### ***We plot recall precision and F1 score against probability cutoffs to visualize the trade offs and support selecting a threshold that balances catching defaults and avoiding false alarms.***"
   ]
  },
  {
   "cell_type": "code",
   "execution_count": 77,
   "id": "6067e6e6-7a99-4896-8cd6-308f279a867b",
   "metadata": {},
   "outputs": [
    {
     "data": {
      "image/png": "[encoded data removed]",
      "text/plain": [
       "<Figure size 600x400 with 1 Axes>"
      ]
     },
     "metadata": {},
     "output_type": "display_data"
    },
    {
     "data": {
      "image/png": "[encoded data removed]",
      "text/plain": [
       "<Figure size 600x400 with 1 Axes>"
      ]
     },
     "metadata": {},
     "output_type": "display_data"
    },
    {
     "data": {
      "image/png": "[encoded data removed]",
      "text/plain": [
       "<Figure size 600x400 with 1 Axes>"
      ]
     },
     "metadata": {},
     "output_type": "display_data"
    }
   ],
   "source": [
    "# Simple plots to see trade-offs\n",
    "# Recall versus cutoff\n",
    "plt.figure(figsize=(6,4))\n",
    "plt.plot(cutoff_df[\"cutoff\"], cutoff_df[\"recall\"])\n",
    "plt.xlabel(\"Probability cutoff\")\n",
    "plt.ylabel(\"Recall for defaults\")\n",
    "plt.title(\"Recall versus cutoff\")\n",
    "plt.grid(True)\n",
    "plt.show()\n",
    "\n",
    "# Precision versus cutoff\n",
    "plt.figure(figsize=(6,4))\n",
    "plt.plot(cutoff_df[\"cutoff\"], cutoff_df[\"precision\"])\n",
    "plt.xlabel(\"Probability cutoff\")\n",
    "plt.ylabel(\"Precision for defaults\")\n",
    "plt.title(\"Precision versus cutoff\")\n",
    "plt.grid(True)\n",
    "plt.show()\n",
    "\n",
    "# F1 versus cutoff\n",
    "plt.figure(figsize=(6,4))\n",
    "plt.plot(cutoff_df[\"cutoff\"], cutoff_df[\"f1\"])\n",
    "plt.xlabel(\"Probability cutoff\")\n",
    "plt.ylabel(\"F1 score\")\n",
    "plt.title(\"F1 versus cutoff\")\n",
    "plt.grid(True)\n",
    "plt.show()\n"
   ]
  },
  {
   "cell_type": "markdown",
   "id": "d95dc9b8-690a-40c4-af33-2ea3d6427e58",
   "metadata": {},
   "source": [
    "###### ***We identify the best probability cutoffs by three methods maximizing F1 maximizing Youden J and finding the smallest cutoff that achieves a recall target so we can choose based on business needs.***"
   ]
  },
  {
   "cell_type": "code",
   "execution_count": 78,
   "id": "19dd083f-529f-4a89-8f51-3315bd04a3fe",
   "metadata": {},
   "outputs": [
    {
     "name": "stdout",
     "output_type": "stream",
     "text": [
      "\n",
      "Cutoff that maximizes F1\n",
      "cutoff       0.160000\n",
      "precision    0.209015\n",
      "recall       0.534907\n",
      "f1           0.300579\n",
      "accuracy     0.833600\n",
      "\n",
      "Cutoff that maximizes Youden J\n",
      "cutoff       0.070000\n",
      "precision    0.161419\n",
      "recall       0.727726\n",
      "fpr          0.270813\n",
      "youden_j     0.456913\n",
      "accuracy     0.729089\n",
      "\n",
      "Smallest cutoff with recall at least 0.60\n",
      "cutoff       0.000000\n",
      "precision    0.066844\n",
      "recall       1.000000\n",
      "f1           0.125312\n",
      "accuracy     0.066844\n"
     ]
    }
   ],
   "source": [
    "# 1 We find the cutoff that maximizes F1\n",
    "idx_f1 = cutoff_df[\"f1\"].idxmax()\n",
    "best_f1 = cutoff_df.loc[idx_f1, [\"cutoff\",\"precision\",\"recall\",\"f1\",\"accuracy\"]]\n",
    "\n",
    "# 2 We find the cutoff that maximizes Youden J which is recall minus FPR\n",
    "cutoff_df[\"youden_j\"] = cutoff_df[\"recall\"] - cutoff_df[\"fpr\"]\n",
    "idx_j = cutoff_df[\"youden_j\"].idxmax()\n",
    "best_j = cutoff_df.loc[idx_j, [\"cutoff\",\"precision\",\"recall\",\"fpr\",\"youden_j\",\"accuracy\"]]\n",
    "\n",
    "# 3 We pick the smallest cutoff that reaches a recall target\n",
    "# You can change this target based on your risk appetite\n",
    "recall_target = 0.60\n",
    "meets = cutoff_df[cutoff_df[\"recall\"] >= recall_target]\n",
    "best_recall = meets.iloc[0][[\"cutoff\",\"precision\",\"recall\",\"f1\",\"accuracy\"]] if not meets.empty else None\n",
    "\n",
    "print(\"\\nCutoff that maximizes F1\")\n",
    "print(best_f1.to_string())\n",
    "\n",
    "print(\"\\nCutoff that maximizes Youden J\")\n",
    "print(best_j.to_string())\n",
    "\n",
    "if best_recall is not None:\n",
    "    print(f\"\\nSmallest cutoff with recall at least {recall_target:.2f}\")\n",
    "    print(best_recall.to_string())\n",
    "else:\n",
    "    print(f\"\\nNo cutoff reached recall target {recall_target:.2f}. Consider lowering the target or improving the model.\")"
   ]
  },
  {
   "cell_type": "markdown",
   "id": "e15b6625-258b-48b3-97ea-307c37839357",
   "metadata": {},
   "source": [
    "###### ***We apply the chosen cutoff build class predictions and print the confusion matrix and classification report so we can see how model performance changes with a tuned threshold.***"
   ]
  },
  {
   "cell_type": "code",
   "execution_count": 79,
   "id": "a38f0209-cc78-4cb3-930e-566c8e5564ac",
   "metadata": {},
   "outputs": [
    {
     "name": "stdout",
     "output_type": "stream",
     "text": [
      "Chosen cutoff: 0.160\n",
      "\n",
      "Confusion Matrix at chosen cutoff\n",
      "[[35903  6089]\n",
      " [ 1399  1609]]\n",
      "\n",
      "Classification Report at chosen cutoff without warnings\n",
      "              precision    recall  f1-score   support\n",
      "\n",
      "           0       0.96      0.85      0.91     41992\n",
      "           1       0.21      0.53      0.30      3008\n",
      "\n",
      "    accuracy                           0.83     45000\n",
      "   macro avg       0.59      0.69      0.60     45000\n",
      "weighted avg       0.91      0.83      0.87     45000\n",
      "\n"
     ]
    }
   ],
   "source": [
    "# Apply the chosen cutoff and review the new confusion matrix\n",
    "# We choose a cutoff based on the printed suggestions\n",
    "# For example suppose the F1 optimum was around 0.22\n",
    "chosen_cutoff = float(best_f1[\"cutoff\"])\n",
    "\n",
    "# We build class predictions at this cutoff\n",
    "y_pred_class_tuned = (y_pred_proba >= chosen_cutoff).astype(int)\n",
    "\n",
    "# We report the confusion matrix and classification report without warnings\n",
    "cm = confusion_matrix(y_test, y_pred_class_tuned)\n",
    "report = classification_report(y_test, y_pred_class_tuned, zero_division=0)\n",
    "\n",
    "print(f\"Chosen cutoff: {chosen_cutoff:.3f}\")\n",
    "print(\"\\nConfusion Matrix at chosen cutoff\")\n",
    "print(cm)\n",
    "print(\"\\nClassification Report at chosen cutoff without warnings\")\n",
    "print(report)"
   ]
  },
  {
   "cell_type": "markdown",
   "id": "9356268c-44ce-479f-a485-8fe4dfb1e2c8",
   "metadata": {},
   "source": [
    "###### ***We transform the logistic regression model into a scorecard by scaling coefficients into points define a base score add base points for the intercept and assign points to each bin of utilization age and income so every customer can be scored.***"
   ]
  },
  {
   "cell_type": "code",
   "execution_count": 80,
   "id": "815ed434-dcc5-4074-9ce6-9568360bec6d",
   "metadata": {},
   "outputs": [
    {
     "name": "stdout",
     "output_type": "stream",
     "text": [
      "Intercept: -2.6360458516729097\n",
      "Coefficients: {'util_woe': -0.9376973674094201, 'age_woe': -0.45853715126204264, 'income_woe': -0.48565620170183926}\n",
      "Scaling factor: 72.135, Offset: 317.807\n",
      "\n",
      "Credit Scorecard:\n",
      "      Variable                  Bin       WoE  Coefficient  Points\n",
      "0         Base        All customers         -    -2.636046   508.0\n",
      "0     util_woe                0-10%  1.357051    -0.937697    92.0\n",
      "1     util_woe               10-30%  0.791856    -0.937697    54.0\n",
      "2     util_woe               30-60%  0.000679    -0.937697     0.0\n",
      "3     util_woe              60-100% -1.150666    -0.937697   -78.0\n",
      "4      age_woe                18-25 -0.562024    -0.458537   -19.0\n",
      "5      age_woe                26-35 -0.557991    -0.458537   -18.0\n",
      "6      age_woe                36-45 -0.299612    -0.458537   -10.0\n",
      "7      age_woe                46-55 -0.137349    -0.458537    -5.0\n",
      "8      age_woe                56-65  0.399626    -0.458537    13.0\n",
      "9      age_woe                  66+  1.063738    -0.458537    35.0\n",
      "10  income_woe     (-0.001, 3400.0] -0.347772    -0.485656   -12.0\n",
      "11  income_woe     (3400.0, 5400.0] -0.009843    -0.485656    -0.0\n",
      "12  income_woe     (5400.0, 8250.0]  0.102701    -0.485656     4.0\n",
      "13  income_woe  (8250.0, 3008750.0]  0.390198    -0.485656    14.0\n"
     ]
    }
   ],
   "source": [
    "# Build a scorecard table\n",
    "# Step 1: Extract model coefficients and intercept\n",
    "intercept = clf.intercept_[0]\n",
    "coefs = dict(zip(woe_features, clf.coef_[0]))\n",
    "\n",
    "print(\"Intercept:\", intercept)\n",
    "print(\"Coefficients:\", coefs)\n",
    "\n",
    "# Step 2: Define scaling parameters\n",
    "# Base score = 600 points at odds = 50:1\n",
    "# PDO (Points to Double Odds) = 50 points\n",
    "base_score = 600\n",
    "pdo = 50\n",
    "odds = 50  # odds of good:bad at base score\n",
    "\n",
    "# Scaling factor calculations\n",
    "factor = pdo / np.log(2)\n",
    "offset = base_score - factor * np.log(odds)\n",
    "\n",
    "print(f\"Scaling factor: {factor:.3f}, Offset: {offset:.3f}\")\n",
    "\n",
    "# Step 3: Build scorecard for each bin of each variable\n",
    "scorecard_rows = []\n",
    "\n",
    "for var, coef in coefs.items():\n",
    "    # pick the corresponding detail table\n",
    "    if var == \"util_woe\":\n",
    "        detail = util_detail\n",
    "        bin_col = \"util_bin\"\n",
    "    elif var == \"age_woe\":\n",
    "        detail = age_detail\n",
    "        bin_col = \"age_bin\"\n",
    "    elif var == \"income_woe\":\n",
    "        detail = income_detail\n",
    "        bin_col = \"income_bin\"\n",
    "    else:\n",
    "        continue\n",
    "\n",
    "    for _, row in detail.iterrows():\n",
    "        bin_label = row[bin_col]\n",
    "        woe = row[\"woe\"]\n",
    "        # points formula: -coef * woe * factor\n",
    "        # negative sign because higher risk should lower score\n",
    "        points = -coef * woe * factor\n",
    "        scorecard_rows.append([var, bin_label, woe, coef, round(points, 0)])\n",
    "\n",
    "# Step 4: Put into a DataFrame\n",
    "scorecard = pd.DataFrame(scorecard_rows,\n",
    "                         columns=[\"Variable\", \"Bin\", \"WoE\", \"Coefficient\", \"Points\"])\n",
    "\n",
    "# Step 5: Add base points row for intercept\n",
    "base_points = round(offset + (-intercept * factor), 0)\n",
    "scorecard = pd.concat([pd.DataFrame([[\"Base\", \"All customers\", \"-\", intercept, base_points]],\n",
    "                                    columns=scorecard.columns),\n",
    "                       scorecard])\n",
    "\n",
    "# Display the scorecard\n",
    "print(\"\\nCredit Scorecard:\")\n",
    "print(scorecard)"
   ]
  },
  {
   "cell_type": "markdown",
   "id": "8548d74b-b7a4-40cf-bfae-ad014b52f615",
   "metadata": {},
   "source": [
    "###### ***We convert WoE values into per customer points add base points and sum them into a final credit score then print samples and summary stats to verify everything is numeric and sensible.***"
   ]
  },
  {
   "cell_type": "code",
   "execution_count": 81,
   "id": "20a59f0a-5625-4974-a3e0-dd52afa764f2",
   "metadata": {},
   "outputs": [
    {
     "name": "stdout",
     "output_type": "stream",
     "text": [
      "dtypes:\n",
      "base_points      float64\n",
      "util_points      float64\n",
      "age_points       float64\n",
      "income_points    float64\n",
      "credit_score     float64\n",
      "dtype: object\n",
      "\n",
      "first five rows:\n",
      "  util_bin  util_points age_bin  age_points           income_bin  \\\n",
      "0  60-100%        -78.0   36-45       -10.0  (8250.0, 3008750.0]   \n",
      "1  60-100%        -78.0   36-45       -10.0     (-0.001, 3400.0]   \n",
      "2  60-100%        -78.0   36-45       -10.0     (-0.001, 3400.0]   \n",
      "3   10-30%         54.0   26-35       -18.0     (-0.001, 3400.0]   \n",
      "4  60-100%        -78.0   46-55        -5.0  (8250.0, 3008750.0]   \n",
      "\n",
      "   income_points  base_points  credit_score  \n",
      "0           14.0        508.0         434.0  \n",
      "1          -12.0        508.0         408.0  \n",
      "2          -12.0        508.0         408.0  \n",
      "3          -12.0        508.0         532.0  \n",
      "4           14.0        508.0         439.0  \n",
      "\n",
      "score distribution:\n",
      "count    150000.000000\n",
      "mean        544.367113\n",
      "std          76.142240\n",
      "min         399.000000\n",
      "25%         489.000000\n",
      "50%         570.000000\n",
      "75%         604.000000\n",
      "max         649.000000\n",
      "Name: credit_score, dtype: float64\n"
     ]
    }
   ],
   "source": [
    "# Compute customer-level credit scores\n",
    "# We will compute per customer points from each WoE variable and then add base points\n",
    "\n",
    "# Step 1\n",
    "# We reuse model pieces from the previous scorecard step\n",
    "# These must already exist in your session:\n",
    "#   coefs    a dict like {\"util_woe\": ..., \"age_woe\": ..., \"income_woe\": ...}\n",
    "#   intercept the logistic regression intercept\n",
    "#   factor and offset which came from the chosen base score and PDO scaling\n",
    "# If any of these are missing from memory please rerun the scorecard construction cell first\n",
    "\n",
    "# Step 2\n",
    "# We build map dictionaries from bin label to WoE for each variable\n",
    "util_woe_by_bin   = dict(zip(util_detail[\"util_bin\"],   util_detail[\"woe\"]))\n",
    "age_woe_by_bin    = dict(zip(age_detail[\"age_bin\"],     age_detail[\"woe\"]))\n",
    "income_woe_by_bin = dict(zip(income_detail[\"income_bin\"], income_detail[\"woe\"]))\n",
    "\n",
    "# Step 3\n",
    "# We map each row’s bin to its WoE and immediately coerce to float\n",
    "# pd.to_numeric with errors equal to \"coerce\" guarantees a float Series with NaN for any unmapped label\n",
    "util_woe_series   = pd.to_numeric(df[\"util_bin\"].map(util_woe_by_bin),   errors=\"coerce\")\n",
    "age_woe_series    = pd.to_numeric(df[\"age_bin\"].map(age_woe_by_bin),     errors=\"coerce\")\n",
    "income_woe_series = pd.to_numeric(df[\"income_bin\"].map(income_woe_by_bin), errors=\"coerce\")\n",
    "\n",
    "# Step 4\n",
    "# We convert WoE to points using the standard scorecard formula\n",
    "# points equals negative beta times WoE times factor so that safer bins add points and riskier bins subtract points\n",
    "util_points   = -coefs[\"util_woe\"]   * util_woe_series   * factor\n",
    "age_points    = -coefs[\"age_woe\"]    * age_woe_series    * factor\n",
    "income_points = -coefs[\"income_woe\"] * income_woe_series * factor\n",
    "\n",
    "# Step 5\n",
    "# We replace any NaN with zero because missing WoE means neutral evidence for scoring\n",
    "# We also round to the nearest integer for a neat scorecard look\n",
    "df[\"util_points\"]   = np.round(np.nan_to_num(util_points,   nan=0.0), 0).astype(float)\n",
    "df[\"age_points\"]    = np.round(np.nan_to_num(age_points,    nan=0.0), 0).astype(float)\n",
    "df[\"income_points\"] = np.round(np.nan_to_num(income_points, nan=0.0), 0).astype(float)\n",
    "\n",
    "# Step 6\n",
    "# We compute base points once for everyone from the intercept and scaling constants\n",
    "# base_points equals offset plus negative intercept times factor\n",
    "base_points_value = np.round(offset + (-intercept * factor), 0).astype(float)\n",
    "df[\"base_points\"] = base_points_value\n",
    "\n",
    "# Step 7\n",
    "# We now add everything together as pure numeric columns\n",
    "df[\"credit_score\"] = (\n",
    "    df[\"base_points\"].astype(float)\n",
    "    + df[\"util_points\"].astype(float)\n",
    "    + df[\"age_points\"].astype(float)\n",
    "    + df[\"income_points\"].astype(float)\n",
    ")\n",
    "\n",
    "# Step 8\n",
    "# We print a small sample and a summary so we can verify that everything is numeric and sensible\n",
    "print(\"dtypes:\")\n",
    "print(df[[\"base_points\",\"util_points\",\"age_points\",\"income_points\",\"credit_score\"]].dtypes)\n",
    "\n",
    "print(\"\\nfirst five rows:\")\n",
    "print(df[[\"util_bin\",\"util_points\",\"age_bin\",\"age_points\",\"income_bin\",\"income_points\",\"base_points\",\"credit_score\"]].head())\n",
    "\n",
    "print(\"\\nscore distribution:\")\n",
    "print(df[\"credit_score\"].describe())"
   ]
  },
  {
   "cell_type": "markdown",
   "id": "2ac161d0-1a3e-4cbb-894d-f512b04bd5d9",
   "metadata": {},
   "source": [
    "###### ***We plot a histogram of the final credit scores to visualize how customers are spread across the score range.***"
   ]
  },
  {
   "cell_type": "code",
   "execution_count": 82,
   "id": "b847f138-f140-4c58-a146-3349db2f99c5",
   "metadata": {},
   "outputs": [
    {
     "data": {
      "image/png": "[encoded data removed]",
      "text/plain": [
       "<Figure size 700x400 with 1 Axes>"
      ]
     },
     "metadata": {},
     "output_type": "display_data"
    }
   ],
   "source": [
    "import matplotlib.pyplot as plt\n",
    "\n",
    "# We draw a histogram so we can see how scores are distributed\n",
    "plt.figure(figsize=(7,4))\n",
    "plt.hist(df[\"credit_score\"], bins=30)\n",
    "plt.xlabel(\"Credit score\")\n",
    "plt.ylabel(\"Number of customers\")\n",
    "plt.title(\"Distribution of credit scores\")\n",
    "plt.grid(True)\n",
    "plt.savefig(\"../reports/credit_score_distribution.png\", dpi=150, bbox_inches=\"tight\")\n",
    "plt.show()"
   ]
  },
  {
   "cell_type": "markdown",
   "id": "01d53a2d-8e93-4bf4-80be-40b67c37acd4",
   "metadata": {},
   "source": [
    "##### **Stage 4 Summary**\n",
    "\n",
    "At the end of this stage:\n",
    "- We trained a logistic regression model on WoE features for utilization, age, and income  \n",
    "- We evaluated performance with AUC (ranking power), ROC, and Precision-Recall curves (for imbalanced data)  \n",
    "- We tuned cutoffs to balance recall, precision, and overall accuracy  \n",
    "- We transformed the logistic regression into a scorecard with base points and bin-level points  \n",
    "- Each customer now has a final credit score, and we plotted the distribution to see how customers are spread across the score range  \n",
    "\n",
    "The dataset is now fully scored, and we are ready to package the project for presentation and sharing."
   ]
  },
  {
   "cell_type": "code",
   "execution_count": null,
   "id": "94faa336-2f79-4056-b1f8-8bef6bd7c28f",
   "metadata": {},
   "outputs": [],
   "source": []
  }
 ],
 "metadata": {
  "kernelspec": {
   "display_name": "Python 3 (ipykernel)",
   "language": "python",
   "name": "python3"
  },
  "language_info": {
   "codemirror_mode": {
    "name": "ipython",
    "version": 3
   },
   "file_extension": ".py",
   "mimetype": "text/x-python",
   "name": "python",
   "nbconvert_exporter": "python",
   "pygments_lexer": "ipython3",
   "version": "3.12.7"
  }
 },
 "nbformat": 4,
 "nbformat_minor": 5
}
